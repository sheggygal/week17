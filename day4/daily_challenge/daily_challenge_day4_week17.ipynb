{
  "metadata": {
    "kernelspec": {
      "language": "python",
      "display_name": "Python 3",
      "name": "python3"
    },
    "language_info": {
      "pygments_lexer": "ipython3",
      "nbconvert_exporter": "python",
      "version": "3.6.4",
      "file_extension": ".py",
      "codemirror_mode": {
        "name": "ipython",
        "version": 3
      },
      "name": "python",
      "mimetype": "text/x-python"
    },
    "kaggle": {
      "accelerator": "none",
      "dataSources": [
        {
          "sourceId": 4213024,
          "sourceType": "datasetVersion",
          "datasetId": 2479030
        }
      ],
      "dockerImageVersionId": 30558,
      "isInternetEnabled": false,
      "language": "python",
      "sourceType": "notebook",
      "isGpuEnabled": false
    },
    "colab": {
      "provenance": []
    }
  },
  "nbformat_minor": 0,
  "nbformat": 4,
  "cells": [
    {
      "cell_type": "code",
      "source": [
        "import numpy as np\n",
        "import pandas as pd\n",
        "import matplotlib.pyplot as plt\n",
        "import seaborn as sns\n",
        "import itertools\n",
        "import statsmodels.stats.api as sms\n",
        "from scipy.stats import (ttest_1samp, shapiro, levene, ttest_ind, mannwhitneyu,\n",
        "                         pearsonr, spearmanr, kendalltau, f_oneway, kruskal)\n",
        "from statsmodels.stats.proportion import proportions_ztest\n",
        "from statsmodels.stats.multicomp import MultiComparison\n"
      ],
      "metadata": {
        "_uuid": "8f2839f25d086af736a60e9eeb907d3b93b6e0e5",
        "_cell_guid": "b1076dfc-b9ad-4769-8c92-a6c4dae69d19",
        "execution": {
          "iopub.status.busy": "2023-11-06T18:15:49.893535Z",
          "iopub.execute_input": "2023-11-06T18:15:49.894197Z",
          "iopub.status.idle": "2023-11-06T18:15:49.925697Z",
          "shell.execute_reply.started": "2023-11-06T18:15:49.894137Z",
          "shell.execute_reply": "2023-11-06T18:15:49.924613Z"
        },
        "trusted": true,
        "id": "NxVVGK3Ervuh"
      },
      "execution_count": 1,
      "outputs": []
    },
    {
      "cell_type": "code",
      "source": [
        "# Import the dataset\n",
        "ab_data = pd.read_csv('/content/AB_Test_Results.csv')\n",
        "\n",
        "print(ab_data.head())"
      ],
      "metadata": {
        "id": "3tOTF5-JoVbY",
        "colab": {
          "base_uri": "https://localhost:8080/"
        },
        "outputId": "80c3153a-24d8-428c-99df-d36b3e93fb07"
      },
      "execution_count": 3,
      "outputs": [
        {
          "output_type": "stream",
          "name": "stdout",
          "text": [
            "   USER_ID VARIANT_NAME  REVENUE\n",
            "0      737      variant      0.0\n",
            "1     2423      control      0.0\n",
            "2     9411      control      0.0\n",
            "3     7311      control      0.0\n",
            "4     6174      variant      0.0\n"
          ]
        }
      ]
    },
    {
      "cell_type": "markdown",
      "source": [
        "# Data Understanding"
      ],
      "metadata": {
        "id": "x4TkAvmHrvuk"
      }
    },
    {
      "cell_type": "code",
      "source": [
        "# TODO: DataFrame Information\n",
        "print(\"DataFrame Information:\")\n",
        "ab_data.info()\n",
        "\n",
        "# TODO: Columns in DataFrame\n",
        "print(\"\\nColumns in DataFrame:\")\n",
        "print(ab_data.columns)\n",
        "\n",
        "# TODO: Counting Missing Values\n",
        "print(\"\\nCounting Missing Values:\")\n",
        "print(ab_data.isnull().sum())\n",
        "\n",
        "# TODO: Descriptive Statistics\n",
        "print(\"\\nDescriptive Statistics:\")\n",
        "print(ab_data.describe())\n",
        "\n",
        "# TODO: Value Counts for VARIANT_NAME\n",
        "print(\"\\nValue Counts for VARIANT_NAME:\")\n",
        "print(ab_data['VARIANT_NAME'].value_counts())\n",
        "\n",
        "# TODO: Counting Unique Users in USER_ID\n",
        "print(\"\\nCounting Unique Users in USER_ID:\")\n",
        "print(ab_data['USER_ID'].nunique())"
      ],
      "metadata": {
        "execution": {
          "iopub.status.busy": "2023-11-06T18:17:34.663181Z",
          "iopub.execute_input": "2023-11-06T18:17:34.663604Z",
          "iopub.status.idle": "2023-11-06T18:17:34.698452Z",
          "shell.execute_reply.started": "2023-11-06T18:17:34.66357Z",
          "shell.execute_reply": "2023-11-06T18:17:34.697253Z"
        },
        "trusted": true,
        "id": "4hquSCDYrvun",
        "colab": {
          "base_uri": "https://localhost:8080/"
        },
        "outputId": "4870a559-39cc-4e54-826b-acd3379af5a6"
      },
      "execution_count": 4,
      "outputs": [
        {
          "output_type": "stream",
          "name": "stdout",
          "text": [
            "DataFrame Information:\n",
            "<class 'pandas.core.frame.DataFrame'>\n",
            "RangeIndex: 10000 entries, 0 to 9999\n",
            "Data columns (total 3 columns):\n",
            " #   Column        Non-Null Count  Dtype  \n",
            "---  ------        --------------  -----  \n",
            " 0   USER_ID       10000 non-null  int64  \n",
            " 1   VARIANT_NAME  10000 non-null  object \n",
            " 2   REVENUE       10000 non-null  float64\n",
            "dtypes: float64(1), int64(1), object(1)\n",
            "memory usage: 234.5+ KB\n",
            "\n",
            "Columns in DataFrame:\n",
            "Index(['USER_ID', 'VARIANT_NAME', 'REVENUE'], dtype='object')\n",
            "\n",
            "Counting Missing Values:\n",
            "USER_ID         0\n",
            "VARIANT_NAME    0\n",
            "REVENUE         0\n",
            "dtype: int64\n",
            "\n",
            "Descriptive Statistics:\n",
            "            USER_ID       REVENUE\n",
            "count  10000.000000  10000.000000\n",
            "mean    4981.080200      0.099447\n",
            "std     2890.590115      2.318529\n",
            "min        2.000000      0.000000\n",
            "25%     2468.750000      0.000000\n",
            "50%     4962.000000      0.000000\n",
            "75%     7511.500000      0.000000\n",
            "max    10000.000000    196.010000\n",
            "\n",
            "Value Counts for VARIANT_NAME:\n",
            "VARIANT_NAME\n",
            "variant    5016\n",
            "control    4984\n",
            "Name: count, dtype: int64\n",
            "\n",
            "Counting Unique Users in USER_ID:\n",
            "6324\n"
          ]
        }
      ]
    },
    {
      "cell_type": "markdown",
      "source": [
        "# Average Revenue by VARIANT_NAME"
      ],
      "metadata": {
        "id": "1UJ0wnvyrvup"
      }
    },
    {
      "cell_type": "code",
      "source": [
        "# Calculate Average Revenue by VARIANT_NAME\n",
        "average_revenue = ab_data.groupby('VARIANT_NAME')['REVENUE'].mean().reset_index()\n",
        "\n",
        "# Rename the columns for clarity\n",
        "average_revenue.columns = ['VARIANT_NAME', 'AVERAGE_REVENUE']\n",
        "\n",
        "print(average_revenue)"
      ],
      "metadata": {
        "execution": {
          "iopub.status.busy": "2023-11-06T18:18:57.601805Z",
          "iopub.execute_input": "2023-11-06T18:18:57.602256Z",
          "iopub.status.idle": "2023-11-06T18:18:57.619241Z",
          "shell.execute_reply.started": "2023-11-06T18:18:57.602219Z",
          "shell.execute_reply": "2023-11-06T18:18:57.618008Z"
        },
        "trusted": true,
        "id": "FEl4TOdKrvuq",
        "colab": {
          "base_uri": "https://localhost:8080/"
        },
        "outputId": "cb9c273a-453f-447b-c490-d18dc3b51a29"
      },
      "execution_count": 5,
      "outputs": [
        {
          "output_type": "stream",
          "name": "stdout",
          "text": [
            "  VARIANT_NAME  AVERAGE_REVENUE\n",
            "0      control         0.129013\n",
            "1      variant         0.070070\n"
          ]
        }
      ]
    },
    {
      "cell_type": "markdown",
      "source": [
        "What if H0: M1 = M2 ?\n",
        "What about H1: M1 1= M2 ?"
      ],
      "metadata": {
        "id": "VI4aeoclrvur"
      }
    },
    {
      "cell_type": "markdown",
      "source": [
        "# Assumptions Control:\n",
        "*# 1- Normality Assumptions*\n",
        "*# 2- Homogeneity of Variances Assumption*"
      ],
      "metadata": {
        "id": "9nwdJ5OPrvus"
      }
    },
    {
      "cell_type": "code",
      "source": [
        "# Separate the revenue data for each group\n",
        "control_revenue = ab_data.loc[ab_data['VARIANT_NAME'] == 'control', 'REVENUE']\n",
        "variant_revenue = ab_data.loc[ab_data['VARIANT_NAME'] == 'variant', 'REVENUE']\n",
        "\n",
        "# Perform the Shapiro-Wilk test for normality\n",
        "control_stat, control_p = shapiro(control_revenue)\n",
        "variant_stat, variant_p = shapiro(variant_revenue)\n",
        "\n",
        "# Print the results\n",
        "print(f'Control Group: Statistics={control_stat:.3f}, p-value={control_p:.3f}')\n",
        "print(f'Variant Group: Statistics={variant_stat:.3f}, p-value={variant_p:.3f}')\n",
        "\n",
        "# Conclusion based on p-value\n",
        "alpha = 0.05  # significance level\n",
        "if control_p > alpha:\n",
        "    print(\"Control group revenue data follows a normal distribution (fail to reject H0).\")\n",
        "else:\n",
        "    print(\"Control group revenue data does not follow a normal distribution (reject H0).\")\n",
        "\n",
        "if variant_p > alpha:\n",
        "    print(\"Variant group revenue data follows a normal distribution (fail to reject H0).\")\n",
        "else:\n",
        "    print(\"Variant group revenue data does not follow a normal distribution (reject H0).\")\n"
      ],
      "metadata": {
        "execution": {
          "iopub.status.busy": "2023-11-06T18:33:49.418255Z",
          "iopub.execute_input": "2023-11-06T18:33:49.419188Z",
          "iopub.status.idle": "2023-11-06T18:33:49.439409Z",
          "shell.execute_reply.started": "2023-11-06T18:33:49.41913Z",
          "shell.execute_reply": "2023-11-06T18:33:49.438008Z"
        },
        "trusted": true,
        "id": "TT2sJwFprvut",
        "colab": {
          "base_uri": "https://localhost:8080/"
        },
        "outputId": "6b7e72b5-9b97-4ea0-c41e-c52cd1b10bae"
      },
      "execution_count": 8,
      "outputs": [
        {
          "output_type": "stream",
          "name": "stdout",
          "text": [
            "Control Group: Statistics=0.018, p-value=0.000\n",
            "Variant Group: Statistics=0.027, p-value=0.000\n",
            "Control group revenue data does not follow a normal distribution (reject H0).\n",
            "Variant group revenue data does not follow a normal distribution (reject H0).\n"
          ]
        },
        {
          "output_type": "stream",
          "name": "stderr",
          "text": [
            "/usr/local/lib/python3.10/dist-packages/scipy/stats/_axis_nan_policy.py:531: UserWarning: scipy.stats.shapiro: For N > 5000, computed p-value may not be accurate. Current N is 5016.\n",
            "  res = hypotest_fun_out(*samples, **kwds)\n"
          ]
        }
      ]
    },
    {
      "cell_type": "code",
      "source": [
        "# Separate the revenue data for each group\n",
        "control_revenue = ab_data[ab_data['VARIANT_NAME'] == 'control']['REVENUE']\n",
        "variant_revenue = ab_data[ab_data['VARIANT_NAME'] == 'variant']['REVENUE']\n",
        "\n",
        "# Perform Levene's test\n",
        "stat, p_value = levene(control_revenue, variant_revenue)\n",
        "\n",
        "# Print the results\n",
        "print(f\"Levene's test statistic: {stat:.4f}, p-value: {p_value:.4f}\")\n",
        "\n",
        "# Conclusion\n",
        "alpha = 0.05\n",
        "if p_value < alpha:\n",
        "    print(\"Reject the null hypothesis: The variances are significantly different.\")\n",
        "else:\n",
        "    print(\"Fail to reject the null hypothesis: The variances are not significantly different.\")"
      ],
      "metadata": {
        "execution": {
          "iopub.status.busy": "2023-11-06T18:36:19.230691Z",
          "iopub.execute_input": "2023-11-06T18:36:19.231134Z",
          "iopub.status.idle": "2023-11-06T18:36:19.251023Z",
          "shell.execute_reply.started": "2023-11-06T18:36:19.231103Z",
          "shell.execute_reply": "2023-11-06T18:36:19.249467Z"
        },
        "trusted": true,
        "id": "n_X3_fU2rvuv",
        "colab": {
          "base_uri": "https://localhost:8080/"
        },
        "outputId": "8adb8bbe-1a71-4fe3-f07a-e21f19d08349"
      },
      "execution_count": 9,
      "outputs": [
        {
          "output_type": "stream",
          "name": "stdout",
          "text": [
            "Levene's test statistic: 1.6159, p-value: 0.2037\n",
            "Fail to reject the null hypothesis: The variances are not significantly different.\n"
          ]
        }
      ]
    },
    {
      "cell_type": "markdown",
      "source": [
        "# Non-Parametric Test (mannwhitneyu Test)"
      ],
      "metadata": {
        "id": "thz0Mml0rvuw"
      }
    },
    {
      "cell_type": "code",
      "source": [
        "# Separate the revenue data for each group\n",
        "control_revenue = ab_data[ab_data['VARIANT_NAME'] == 'control']['REVENUE']\n",
        "variant_revenue = ab_data[ab_data['VARIANT_NAME'] == 'variant']['REVENUE']\n",
        "\n",
        "# Perform the Mann-Whitney U test\n",
        "stat, p_value = mannwhitneyu(control_revenue, variant_revenue, alternative='two-sided')\n",
        "\n",
        "# Print the results\n",
        "print(f\"Mann-Whitney U statistic: {stat:.4f}, p-value: {p_value:.4f}\")\n",
        "\n",
        "# Conclusion\n",
        "alpha = 0.05\n",
        "if p_value < alpha:\n",
        "    print(\"Reject the null hypothesis: There is a significant difference in average revenue between the two groups.\")\n",
        "else:\n",
        "    print(\"Fail to reject the null hypothesis: There is no significant difference in average revenue between the two groups.\")"
      ],
      "metadata": {
        "execution": {
          "iopub.status.busy": "2023-11-06T18:38:28.694822Z",
          "iopub.execute_input": "2023-11-06T18:38:28.695244Z",
          "iopub.status.idle": "2023-11-06T18:38:28.727682Z",
          "shell.execute_reply.started": "2023-11-06T18:38:28.695212Z",
          "shell.execute_reply": "2023-11-06T18:38:28.726189Z"
        },
        "trusted": true,
        "id": "HGcWTyuUrvuw",
        "colab": {
          "base_uri": "https://localhost:8080/"
        },
        "outputId": "60b517aa-1a45-4a2a-8b11-50b56efcf1ef"
      },
      "execution_count": 10,
      "outputs": [
        {
          "output_type": "stream",
          "name": "stdout",
          "text": [
            "Mann-Whitney U statistic: 12521564.0000, p-value: 0.4783\n",
            "Fail to reject the null hypothesis: There is no significant difference in average revenue between the two groups.\n"
          ]
        }
      ]
    },
    {
      "cell_type": "code",
      "source": [
        "# Calculate average revenue by variant names if not already done\n",
        "average_revenue = ab_data.groupby('VARIANT_NAME')['REVENUE'].mean().reset_index()\n",
        "\n",
        "# Create a bar plot using seaborn\n",
        "plt.figure(figsize=(10, 6))\n",
        "sns.barplot(data=average_revenue, x='VARIANT_NAME', y='REVENUE', hue='VARIANT_NAME', palette='viridis')\n",
        "\n",
        "# Add title and labels\n",
        "plt.title('Average Revenue by Variant Name', fontsize=16)\n",
        "plt.xlabel('Variant Name', fontsize=14)\n",
        "plt.ylabel('Average Revenue', fontsize=14)\n",
        "\n",
        "# Show the plot\n",
        "plt.xticks(rotation=45)  # Rotate x labels if needed\n",
        "plt.show()"
      ],
      "metadata": {
        "execution": {
          "iopub.status.busy": "2023-11-06T18:45:29.181657Z",
          "iopub.execute_input": "2023-11-06T18:45:29.18208Z",
          "iopub.status.idle": "2023-11-06T18:45:29.640026Z",
          "shell.execute_reply.started": "2023-11-06T18:45:29.182049Z",
          "shell.execute_reply": "2023-11-06T18:45:29.638846Z"
        },
        "trusted": true,
        "id": "jtjQGGsDrvux",
        "colab": {
          "base_uri": "https://localhost:8080/",
          "height": 562
        },
        "outputId": "508b52dc-b0d5-4cea-8bb2-bb590699c92e"
      },
      "execution_count": 12,
      "outputs": [
        {
          "output_type": "stream",
          "name": "stderr",
          "text": [
            "/usr/local/lib/python3.10/dist-packages/seaborn/_base.py:949: FutureWarning: When grouping with a length-1 list-like, you will need to pass a length-1 tuple to get_group in a future version of pandas. Pass `(name,)` instead of `name` to silence this warning.\n",
            "  data_subset = grouped_data.get_group(pd_key)\n",
            "/usr/local/lib/python3.10/dist-packages/seaborn/_base.py:949: FutureWarning: When grouping with a length-1 list-like, you will need to pass a length-1 tuple to get_group in a future version of pandas. Pass `(name,)` instead of `name` to silence this warning.\n",
            "  data_subset = grouped_data.get_group(pd_key)\n"
          ]
        },
        {
          "output_type": "display_data",
          "data": {
            "text/plain": [
              "<Figure size 1000x600 with 1 Axes>"
            ],
            "image/png": "[encoded data removed]"
          },
          "metadata": {}
        }
      ]
    }
  ]
}