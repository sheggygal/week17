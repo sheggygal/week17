{
  "metadata": {
    "kernelspec": {
      "language": "python",
      "display_name": "Python 3",
      "name": "python3"
    },
    "language_info": {
      "pygments_lexer": "ipython3",
      "nbconvert_exporter": "python",
      "version": "3.6.4",
      "file_extension": ".py",
      "codemirror_mode": {
        "name": "ipython",
        "version": 3
      },
      "name": "python",
      "mimetype": "text/x-python"
    },
    "kaggle": {
      "accelerator": "none",
      "dataSources": [
        {
          "sourceId": 4213024,
          "sourceType": "datasetVersion",
          "datasetId": 2479030
        }
      ],
      "dockerImageVersionId": 30235,
      "isInternetEnabled": false,
      "language": "python",
      "sourceType": "notebook",
      "isGpuEnabled": false
    },
    "colab": {
      "provenance": []
    }
  },
  "nbformat_minor": 0,
  "nbformat": 4,
  "cells": [
    {
      "cell_type": "markdown",
      "source": [
        "The AB test is a randomized experiment that is used by most large companies to evaluate the launch of new functionality. Various difficulties may arise in the analysis and conduct of the experiment. Several typical problematic cases from real life are given in this dataset and analysis."
      ],
      "metadata": {
        "id": "DeHt0ZK0kkpI"
      }
    },
    {
      "cell_type": "markdown",
      "source": [
        "### Content\n",
        "1. [Loading and processing data](#Loading)\n",
        "2. [Statistical Analysis](#Statistical)\n",
        "3. [Conclusions](#Conclusions)"
      ],
      "metadata": {
        "id": "Zm0ogtm1kkpI"
      }
    },
    {
      "cell_type": "markdown",
      "source": [
        "### Loading and processing data <a name=\"Loading\"/>"
      ],
      "metadata": {
        "id": "bn40N7ilkkpJ"
      }
    },
    {
      "cell_type": "markdown",
      "source": [
        "Let's import the necessary libraries and load the data"
      ],
      "metadata": {
        "id": "fh03NWZxkkpJ"
      }
    },
    {
      "cell_type": "code",
      "source": [
        "import numpy as np\n",
        "import pandas as pd\n",
        "from scipy.stats import mannwhitneyu\n",
        "from scipy.stats import ttest_ind\n",
        "from scipy.stats import norm\n",
        "import matplotlib.pyplot as plt\n",
        "import seaborn as sns\n",
        "from tqdm.auto import tqdm\n",
        "import seaborn as sns\n",
        "from scipy.stats import pearsonr\n",
        "from scipy.stats import shapiro"
      ],
      "metadata": {
        "execution": {
          "iopub.status.busy": "2022-09-16T18:23:22.571234Z",
          "iopub.execute_input": "2022-09-16T18:23:22.571662Z",
          "iopub.status.idle": "2022-09-16T18:23:22.579386Z",
          "shell.execute_reply.started": "2022-09-16T18:23:22.571624Z",
          "shell.execute_reply": "2022-09-16T18:23:22.577863Z"
        },
        "trusted": true,
        "id": "jKi9SDP2kkpJ"
      },
      "execution_count": 1,
      "outputs": []
    },
    {
      "cell_type": "code",
      "source": [
        "# Import the dataset\n",
        "df = pd.read_csv('/content/AB_Test_Results.csv')"
      ],
      "metadata": {
        "execution": {
          "iopub.status.busy": "2022-09-16T18:23:22.582829Z",
          "iopub.execute_input": "2022-09-16T18:23:22.584216Z",
          "iopub.status.idle": "2022-09-16T18:23:22.604701Z",
          "shell.execute_reply.started": "2022-09-16T18:23:22.584166Z",
          "shell.execute_reply": "2022-09-16T18:23:22.603788Z"
        },
        "trusted": true,
        "id": "5CAgSuFlkkpJ"
      },
      "execution_count": 3,
      "outputs": []
    },
    {
      "cell_type": "code",
      "source": [
        "print(df.shape)\n",
        "print(df.head())\n",
        "df.info()\n",
        "df.nunique()\n",
        "df.describe()"
      ],
      "metadata": {
        "execution": {
          "iopub.status.busy": "2022-09-16T18:23:22.606556Z",
          "iopub.execute_input": "2022-09-16T18:23:22.607393Z",
          "iopub.status.idle": "2022-09-16T18:23:22.621022Z",
          "shell.execute_reply.started": "2022-09-16T18:23:22.607349Z",
          "shell.execute_reply": "2022-09-16T18:23:22.619749Z"
        },
        "trusted": true,
        "id": "1nvLy1dIkkpK",
        "colab": {
          "base_uri": "https://localhost:8080/",
          "height": 595
        },
        "outputId": "acba7df7-6d71-44c0-ad73-d4308f4e110f"
      },
      "execution_count": 6,
      "outputs": [
        {
          "output_type": "stream",
          "name": "stdout",
          "text": [
            "(10000, 3)\n",
            "   USER_ID VARIANT_NAME  REVENUE\n",
            "0      737      variant      0.0\n",
            "1     2423      control      0.0\n",
            "2     9411      control      0.0\n",
            "3     7311      control      0.0\n",
            "4     6174      variant      0.0\n",
            "<class 'pandas.core.frame.DataFrame'>\n",
            "RangeIndex: 10000 entries, 0 to 9999\n",
            "Data columns (total 3 columns):\n",
            " #   Column        Non-Null Count  Dtype  \n",
            "---  ------        --------------  -----  \n",
            " 0   USER_ID       10000 non-null  int64  \n",
            " 1   VARIANT_NAME  10000 non-null  object \n",
            " 2   REVENUE       10000 non-null  float64\n",
            "dtypes: float64(1), int64(1), object(1)\n",
            "memory usage: 234.5+ KB\n"
          ]
        },
        {
          "output_type": "execute_result",
          "data": {
            "text/plain": [
              "            USER_ID       REVENUE\n",
              "count  10000.000000  10000.000000\n",
              "mean    4981.080200      0.099447\n",
              "std     2890.590115      2.318529\n",
              "min        2.000000      0.000000\n",
              "25%     2468.750000      0.000000\n",
              "50%     4962.000000      0.000000\n",
              "75%     7511.500000      0.000000\n",
              "max    10000.000000    196.010000"
            ],
            "text/html": [
              "\n",
              "  <div id=\"df-09f8065f-9e5b-471b-8f7b-88144cd03311\" class=\"colab-df-container\">\n",
              "    <div>\n",
              "<style scoped>\n",
              "    .dataframe tbody tr th:only-of-type {\n",
              "        vertical-align: middle;\n",
              "    }\n",
              "\n",
              "    .dataframe tbody tr th {\n",
              "        vertical-align: top;\n",
              "    }\n",
              "\n",
              "    .dataframe thead th {\n",
              "        text-align: right;\n",
              "    }\n",
              "</style>\n",
              "<table border=\"1\" class=\"dataframe\">\n",
              "  <thead>\n",
              "    <tr style=\"text-align: right;\">\n",
              "      <th></th>\n",
              "      <th>USER_ID</th>\n",
              "      <th>REVENUE</th>\n",
              "    </tr>\n",
              "  </thead>\n",
              "  <tbody>\n",
              "    <tr>\n",
              "      <th>count</th>\n",
              "      <td>10000.000000</td>\n",
              "      <td>10000.000000</td>\n",
              "    </tr>\n",
              "    <tr>\n",
              "      <th>mean</th>\n",
              "      <td>4981.080200</td>\n",
              "      <td>0.099447</td>\n",
              "    </tr>\n",
              "    <tr>\n",
              "      <th>std</th>\n",
              "      <td>2890.590115</td>\n",
              "      <td>2.318529</td>\n",
              "    </tr>\n",
              "    <tr>\n",
              "      <th>min</th>\n",
              "      <td>2.000000</td>\n",
              "      <td>0.000000</td>\n",
              "    </tr>\n",
              "    <tr>\n",
              "      <th>25%</th>\n",
              "      <td>2468.750000</td>\n",
              "      <td>0.000000</td>\n",
              "    </tr>\n",
              "    <tr>\n",
              "      <th>50%</th>\n",
              "      <td>4962.000000</td>\n",
              "      <td>0.000000</td>\n",
              "    </tr>\n",
              "    <tr>\n",
              "      <th>75%</th>\n",
              "      <td>7511.500000</td>\n",
              "      <td>0.000000</td>\n",
              "    </tr>\n",
              "    <tr>\n",
              "      <th>max</th>\n",
              "      <td>10000.000000</td>\n",
              "      <td>196.010000</td>\n",
              "    </tr>\n",
              "  </tbody>\n",
              "</table>\n",
              "</div>\n",
              "    <div class=\"colab-df-buttons\">\n",
              "\n",
              "  <div class=\"colab-df-container\">\n",
              "    <button class=\"colab-df-convert\" onclick=\"convertToInteractive('df-09f8065f-9e5b-471b-8f7b-88144cd03311')\"\n",
              "            title=\"Convert this dataframe to an interactive table.\"\n",
              "            style=\"display:none;\">\n",
              "\n",
              "  <svg xmlns=\"http://www.w3.org/2000/svg\" height=\"24px\" viewBox=\"0 -960 960 960\">\n",
              "    <path d=\"M120-120v-720h720v720H120Zm60-500h600v-160H180v160Zm220 220h160v-160H400v160Zm0 220h160v-160H400v160ZM180-400h160v-160H180v160Zm440 0h160v-160H620v160ZM180-180h160v-160H180v160Zm440 0h160v-160H620v160Z\"/>\n",
              "  </svg>\n",
              "    </button>\n",
              "\n",
              "  <style>\n",
              "    .colab-df-container {\n",
              "      display:flex;\n",
              "      gap: 12px;\n",
              "    }\n",
              "\n",
              "    .colab-df-convert {\n",
              "      background-color: #E8F0FE;\n",
              "      border: none;\n",
              "      border-radius: 50%;\n",
              "      cursor: pointer;\n",
              "      display: none;\n",
              "      fill: #1967D2;\n",
              "      height: 32px;\n",
              "      padding: 0 0 0 0;\n",
              "      width: 32px;\n",
              "    }\n",
              "\n",
              "    .colab-df-convert:hover {\n",
              "      background-color: #E2EBFA;\n",
              "      box-shadow: 0px 1px 2px rgba(60, 64, 67, 0.3), 0px 1px 3px 1px rgba(60, 64, 67, 0.15);\n",
              "      fill: #174EA6;\n",
              "    }\n",
              "\n",
              "    .colab-df-buttons div {\n",
              "      margin-bottom: 4px;\n",
              "    }\n",
              "\n",
              "    [theme=dark] .colab-df-convert {\n",
              "      background-color: #3B4455;\n",
              "      fill: #D2E3FC;\n",
              "    }\n",
              "\n",
              "    [theme=dark] .colab-df-convert:hover {\n",
              "      background-color: #434B5C;\n",
              "      box-shadow: 0px 1px 3px 1px rgba(0, 0, 0, 0.15);\n",
              "      filter: drop-shadow(0px 1px 2px rgba(0, 0, 0, 0.3));\n",
              "      fill: #FFFFFF;\n",
              "    }\n",
              "  </style>\n",
              "\n",
              "    <script>\n",
              "      const buttonEl =\n",
              "        document.querySelector('#df-09f8065f-9e5b-471b-8f7b-88144cd03311 button.colab-df-convert');\n",
              "      buttonEl.style.display =\n",
              "        google.colab.kernel.accessAllowed ? 'block' : 'none';\n",
              "\n",
              "      async function convertToInteractive(key) {\n",
              "        const element = document.querySelector('#df-09f8065f-9e5b-471b-8f7b-88144cd03311');\n",
              "        const dataTable =\n",
              "          await google.colab.kernel.invokeFunction('convertToInteractive',\n",
              "                                                    [key], {});\n",
              "        if (!dataTable) return;\n",
              "\n",
              "        const docLinkHtml = 'Like what you see? Visit the ' +\n",
              "          '<a target=\"_blank\" href=https://colab.research.google.com/notebooks/data_table.ipynb>data table notebook</a>'\n",
              "          + ' to learn more about interactive tables.';\n",
              "        element.innerHTML = '';\n",
              "        dataTable['output_type'] = 'display_data';\n",
              "        await google.colab.output.renderOutput(dataTable, element);\n",
              "        const docLink = document.createElement('div');\n",
              "        docLink.innerHTML = docLinkHtml;\n",
              "        element.appendChild(docLink);\n",
              "      }\n",
              "    </script>\n",
              "  </div>\n",
              "\n",
              "\n",
              "<div id=\"df-e4324888-2190-41fd-8c15-2d796a95add3\">\n",
              "  <button class=\"colab-df-quickchart\" onclick=\"quickchart('df-e4324888-2190-41fd-8c15-2d796a95add3')\"\n",
              "            title=\"Suggest charts\"\n",
              "            style=\"display:none;\">\n",
              "\n",
              "<svg xmlns=\"http://www.w3.org/2000/svg\" height=\"24px\"viewBox=\"0 0 24 24\"\n",
              "     width=\"24px\">\n",
              "    <g>\n",
              "        <path d=\"M19 3H5c-1.1 0-2 .9-2 2v14c0 1.1.9 2 2 2h14c1.1 0 2-.9 2-2V5c0-1.1-.9-2-2-2zM9 17H7v-7h2v7zm4 0h-2V7h2v10zm4 0h-2v-4h2v4z\"/>\n",
              "    </g>\n",
              "</svg>\n",
              "  </button>\n",
              "\n",
              "<style>\n",
              "  .colab-df-quickchart {\n",
              "      --bg-color: #E8F0FE;\n",
              "      --fill-color: #1967D2;\n",
              "      --hover-bg-color: #E2EBFA;\n",
              "      --hover-fill-color: #174EA6;\n",
              "      --disabled-fill-color: #AAA;\n",
              "      --disabled-bg-color: #DDD;\n",
              "  }\n",
              "\n",
              "  [theme=dark] .colab-df-quickchart {\n",
              "      --bg-color: #3B4455;\n",
              "      --fill-color: #D2E3FC;\n",
              "      --hover-bg-color: #434B5C;\n",
              "      --hover-fill-color: #FFFFFF;\n",
              "      --disabled-bg-color: #3B4455;\n",
              "      --disabled-fill-color: #666;\n",
              "  }\n",
              "\n",
              "  .colab-df-quickchart {\n",
              "    background-color: var(--bg-color);\n",
              "    border: none;\n",
              "    border-radius: 50%;\n",
              "    cursor: pointer;\n",
              "    display: none;\n",
              "    fill: var(--fill-color);\n",
              "    height: 32px;\n",
              "    padding: 0;\n",
              "    width: 32px;\n",
              "  }\n",
              "\n",
              "  .colab-df-quickchart:hover {\n",
              "    background-color: var(--hover-bg-color);\n",
              "    box-shadow: 0 1px 2px rgba(60, 64, 67, 0.3), 0 1px 3px 1px rgba(60, 64, 67, 0.15);\n",
              "    fill: var(--button-hover-fill-color);\n",
              "  }\n",
              "\n",
              "  .colab-df-quickchart-complete:disabled,\n",
              "  .colab-df-quickchart-complete:disabled:hover {\n",
              "    background-color: var(--disabled-bg-color);\n",
              "    fill: var(--disabled-fill-color);\n",
              "    box-shadow: none;\n",
              "  }\n",
              "\n",
              "  .colab-df-spinner {\n",
              "    border: 2px solid var(--fill-color);\n",
              "    border-color: transparent;\n",
              "    border-bottom-color: var(--fill-color);\n",
              "    animation:\n",
              "      spin 1s steps(1) infinite;\n",
              "  }\n",
              "\n",
              "  @keyframes spin {\n",
              "    0% {\n",
              "      border-color: transparent;\n",
              "      border-bottom-color: var(--fill-color);\n",
              "      border-left-color: var(--fill-color);\n",
              "    }\n",
              "    20% {\n",
              "      border-color: transparent;\n",
              "      border-left-color: var(--fill-color);\n",
              "      border-top-color: var(--fill-color);\n",
              "    }\n",
              "    30% {\n",
              "      border-color: transparent;\n",
              "      border-left-color: var(--fill-color);\n",
              "      border-top-color: var(--fill-color);\n",
              "      border-right-color: var(--fill-color);\n",
              "    }\n",
              "    40% {\n",
              "      border-color: transparent;\n",
              "      border-right-color: var(--fill-color);\n",
              "      border-top-color: var(--fill-color);\n",
              "    }\n",
              "    60% {\n",
              "      border-color: transparent;\n",
              "      border-right-color: var(--fill-color);\n",
              "    }\n",
              "    80% {\n",
              "      border-color: transparent;\n",
              "      border-right-color: var(--fill-color);\n",
              "      border-bottom-color: var(--fill-color);\n",
              "    }\n",
              "    90% {\n",
              "      border-color: transparent;\n",
              "      border-bottom-color: var(--fill-color);\n",
              "    }\n",
              "  }\n",
              "</style>\n",
              "\n",
              "  <script>\n",
              "    async function quickchart(key) {\n",
              "      const quickchartButtonEl =\n",
              "        document.querySelector('#' + key + ' button');\n",
              "      quickchartButtonEl.disabled = true;  // To prevent multiple clicks.\n",
              "      quickchartButtonEl.classList.add('colab-df-spinner');\n",
              "      try {\n",
              "        const charts = await google.colab.kernel.invokeFunction(\n",
              "            'suggestCharts', [key], {});\n",
              "      } catch (error) {\n",
              "        console.error('Error during call to suggestCharts:', error);\n",
              "      }\n",
              "      quickchartButtonEl.classList.remove('colab-df-spinner');\n",
              "      quickchartButtonEl.classList.add('colab-df-quickchart-complete');\n",
              "    }\n",
              "    (() => {\n",
              "      let quickchartButtonEl =\n",
              "        document.querySelector('#df-e4324888-2190-41fd-8c15-2d796a95add3 button');\n",
              "      quickchartButtonEl.style.display =\n",
              "        google.colab.kernel.accessAllowed ? 'block' : 'none';\n",
              "    })();\n",
              "  </script>\n",
              "</div>\n",
              "\n",
              "    </div>\n",
              "  </div>\n"
            ],
            "application/vnd.google.colaboratory.intrinsic+json": {
              "type": "dataframe",
              "summary": "{\n  \"name\": \"df\",\n  \"rows\": 8,\n  \"fields\": [\n    {\n      \"column\": \"USER_ID\",\n      \"properties\": {\n        \"dtype\": \"number\",\n        \"std\": 3608.622589070218,\n        \"min\": 2.0,\n        \"max\": 10000.0,\n        \"num_unique_values\": 7,\n        \"samples\": [\n          10000.0,\n          4981.0802,\n          4962.0\n        ],\n        \"semantic_type\": \"\",\n        \"description\": \"\"\n      }\n    },\n    {\n      \"column\": \"REVENUE\",\n      \"properties\": {\n        \"dtype\": \"number\",\n        \"std\": 3526.176270991776,\n        \"min\": 0.0,\n        \"max\": 10000.0,\n        \"num_unique_values\": 5,\n        \"samples\": [\n          0.09944700000000001,\n          196.01,\n          2.3185286544931945\n        ],\n        \"semantic_type\": \"\",\n        \"description\": \"\"\n      }\n    }\n  ]\n}"
            }
          },
          "metadata": {},
          "execution_count": 6
        }
      ]
    },
    {
      "cell_type": "markdown",
      "source": [
        "Let's see if there are users who have two A/B test groups"
      ],
      "metadata": {
        "id": "gvcmP9L5kkpL"
      }
    },
    {
      "cell_type": "code",
      "source": [
        "# Look at the distribution of the number of unique groups for each user\n",
        "double_variant_count = df.groupby('USER_ID')['VARIANT_NAME'].nunique().value_counts()\n",
        "double_variant_count\n"
      ],
      "metadata": {
        "execution": {
          "iopub.status.busy": "2022-09-16T18:23:22.659897Z",
          "iopub.execute_input": "2022-09-16T18:23:22.660468Z",
          "iopub.status.idle": "2022-09-16T18:23:22.673751Z",
          "shell.execute_reply.started": "2022-09-16T18:23:22.660438Z",
          "shell.execute_reply": "2022-09-16T18:23:22.672845Z"
        },
        "trusted": true,
        "id": "sQfYwAcWkkpL",
        "colab": {
          "base_uri": "https://localhost:8080/",
          "height": 178
        },
        "outputId": "cf0be6db-0195-4510-9d7f-0711fe879507"
      },
      "execution_count": 7,
      "outputs": [
        {
          "output_type": "execute_result",
          "data": {
            "text/plain": [
              "VARIANT_NAME\n",
              "1    4783\n",
              "2    1541\n",
              "Name: count, dtype: int64"
            ],
            "text/html": [
              "<div>\n",
              "<style scoped>\n",
              "    .dataframe tbody tr th:only-of-type {\n",
              "        vertical-align: middle;\n",
              "    }\n",
              "\n",
              "    .dataframe tbody tr th {\n",
              "        vertical-align: top;\n",
              "    }\n",
              "\n",
              "    .dataframe thead th {\n",
              "        text-align: right;\n",
              "    }\n",
              "</style>\n",
              "<table border=\"1\" class=\"dataframe\">\n",
              "  <thead>\n",
              "    <tr style=\"text-align: right;\">\n",
              "      <th></th>\n",
              "      <th>count</th>\n",
              "    </tr>\n",
              "    <tr>\n",
              "      <th>VARIANT_NAME</th>\n",
              "      <th></th>\n",
              "    </tr>\n",
              "  </thead>\n",
              "  <tbody>\n",
              "    <tr>\n",
              "      <th>1</th>\n",
              "      <td>4783</td>\n",
              "    </tr>\n",
              "    <tr>\n",
              "      <th>2</th>\n",
              "      <td>1541</td>\n",
              "    </tr>\n",
              "  </tbody>\n",
              "</table>\n",
              "</div><br><label><b>dtype:</b> int64</label>"
            ]
          },
          "metadata": {},
          "execution_count": 7
        }
      ]
    },
    {
      "cell_type": "code",
      "source": [
        "# TODO : Look at the distribution of the number of unique groups for each user in relative terms\n",
        "double_variant_count / double_variant_count.sum()"
      ],
      "metadata": {
        "execution": {
          "iopub.status.busy": "2022-09-16T18:23:22.675099Z",
          "iopub.execute_input": "2022-09-16T18:23:22.675698Z",
          "iopub.status.idle": "2022-09-16T18:23:22.683077Z",
          "shell.execute_reply.started": "2022-09-16T18:23:22.675666Z",
          "shell.execute_reply": "2022-09-16T18:23:22.682019Z"
        },
        "trusted": true,
        "id": "X7D5HpjdkkpM",
        "colab": {
          "base_uri": "https://localhost:8080/",
          "height": 178
        },
        "outputId": "8755788b-64c3-4d2f-e1e0-d5fae14e409b"
      },
      "execution_count": 8,
      "outputs": [
        {
          "output_type": "execute_result",
          "data": {
            "text/plain": [
              "VARIANT_NAME\n",
              "1    0.756325\n",
              "2    0.243675\n",
              "Name: count, dtype: float64"
            ],
            "text/html": [
              "<div>\n",
              "<style scoped>\n",
              "    .dataframe tbody tr th:only-of-type {\n",
              "        vertical-align: middle;\n",
              "    }\n",
              "\n",
              "    .dataframe tbody tr th {\n",
              "        vertical-align: top;\n",
              "    }\n",
              "\n",
              "    .dataframe thead th {\n",
              "        text-align: right;\n",
              "    }\n",
              "</style>\n",
              "<table border=\"1\" class=\"dataframe\">\n",
              "  <thead>\n",
              "    <tr style=\"text-align: right;\">\n",
              "      <th></th>\n",
              "      <th>count</th>\n",
              "    </tr>\n",
              "    <tr>\n",
              "      <th>VARIANT_NAME</th>\n",
              "      <th></th>\n",
              "    </tr>\n",
              "  </thead>\n",
              "  <tbody>\n",
              "    <tr>\n",
              "      <th>1</th>\n",
              "      <td>0.756325</td>\n",
              "    </tr>\n",
              "    <tr>\n",
              "      <th>2</th>\n",
              "      <td>0.243675</td>\n",
              "    </tr>\n",
              "  </tbody>\n",
              "</table>\n",
              "</div><br><label><b>dtype:</b> float64</label>"
            ]
          },
          "metadata": {},
          "execution_count": 8
        }
      ]
    },
    {
      "cell_type": "markdown",
      "source": [
        "We see that there is 24% of such users. If you take these users into account, then the effect of changes in the experiment will be blurred. Therefore, we exclude user data from the calculation of changes in the experiment"
      ],
      "metadata": {
        "id": "gyhapbJkkkpM"
      }
    },
    {
      "cell_type": "code",
      "source": [
        "# TODO : users with1 A/B test group\n",
        "single_variant_users = (df.groupby('USER_ID')['VARIANT_NAME'].nunique() == 1)\n",
        "# Take only these users\n",
        "single_variant_users = single_variant_users[single_variant_users]"
      ],
      "metadata": {
        "execution": {
          "iopub.status.busy": "2022-09-16T18:23:22.684621Z",
          "iopub.execute_input": "2022-09-16T18:23:22.68523Z",
          "iopub.status.idle": "2022-09-16T18:23:22.704635Z",
          "shell.execute_reply.started": "2022-09-16T18:23:22.685198Z",
          "shell.execute_reply": "2022-09-16T18:23:22.70344Z"
        },
        "trusted": true,
        "id": "MNRylCuikkpM"
      },
      "execution_count": 9,
      "outputs": []
    },
    {
      "cell_type": "code",
      "source": [
        "# Leave only records with users with the 1st ab test group\n",
        "df = df[df['USER_ID'].isin(single_variant_users.index)]\n",
        "# TODO : Check that the number of users matches what it was before the exception\n",
        "df.groupby('USER_ID')['VARIANT_NAME'].nunique().value_counts().iloc[0] == double_variant_count.iloc[0]"
      ],
      "metadata": {
        "execution": {
          "iopub.status.busy": "2022-09-16T18:23:22.706067Z",
          "iopub.execute_input": "2022-09-16T18:23:22.707214Z",
          "iopub.status.idle": "2022-09-16T18:23:22.721546Z",
          "shell.execute_reply.started": "2022-09-16T18:23:22.70718Z",
          "shell.execute_reply": "2022-09-16T18:23:22.720237Z"
        },
        "trusted": true,
        "id": "4XvAx6ZtkkpM",
        "colab": {
          "base_uri": "https://localhost:8080/"
        },
        "outputId": "859798dc-9659-4afe-cce2-5a01a85080c6"
      },
      "execution_count": 10,
      "outputs": [
        {
          "output_type": "execute_result",
          "data": {
            "text/plain": [
              "True"
            ]
          },
          "metadata": {},
          "execution_count": 10
        }
      ]
    },
    {
      "cell_type": "markdown",
      "source": [
        "Let's see how the data is distributed"
      ],
      "metadata": {
        "id": "Vpvcse3pkkpM"
      }
    },
    {
      "cell_type": "code",
      "source": [
        "# TODO : Check how the data is distributed using a box plot\n",
        "# Suppress specific warnings related to future pandas behavior\n",
        "import warnings\n",
        "\n",
        "warnings.filterwarnings(\"ignore\", category=FutureWarning)\n",
        "\n",
        "sns.boxplot(x='VARIANT_NAME', y='REVENUE', data=df)"
      ],
      "metadata": {
        "execution": {
          "iopub.status.busy": "2022-09-16T18:23:22.722862Z",
          "iopub.execute_input": "2022-09-16T18:23:22.723766Z",
          "iopub.status.idle": "2022-09-16T18:23:22.98119Z",
          "shell.execute_reply.started": "2022-09-16T18:23:22.723732Z",
          "shell.execute_reply": "2022-09-16T18:23:22.980008Z"
        },
        "trusted": true,
        "id": "EW1ZGmsukkpN",
        "colab": {
          "base_uri": "https://localhost:8080/",
          "height": 466
        },
        "outputId": "5308d577-6c5e-4b20-e74e-34ea1ff53907"
      },
      "execution_count": 12,
      "outputs": [
        {
          "output_type": "execute_result",
          "data": {
            "text/plain": [
              "<Axes: xlabel='VARIANT_NAME', ylabel='REVENUE'>"
            ]
          },
          "metadata": {},
          "execution_count": 12
        },
        {
          "output_type": "display_data",
          "data": {
            "text/plain": [
              "<Figure size 640x480 with 1 Axes>"
            ],
            "image/png": "[encoded data removed]"
          },
          "metadata": {}
        }
      ]
    },
    {
      "cell_type": "markdown",
      "source": [
        "It can be seen that there is a strong outlier in the data - we will find it by sorting these revenue values in descending order"
      ],
      "metadata": {
        "id": "Hlp3psWykkpN"
      }
    },
    {
      "cell_type": "code",
      "source": [
        "# Sort these revenue values in descending order\n",
        "df.sort_values(by='REVENUE', ascending=False).iloc[:10]"
      ],
      "metadata": {
        "execution": {
          "iopub.status.busy": "2022-09-16T18:23:22.986753Z",
          "iopub.execute_input": "2022-09-16T18:23:22.987116Z",
          "iopub.status.idle": "2022-09-16T18:23:23.005356Z",
          "shell.execute_reply.started": "2022-09-16T18:23:22.987087Z",
          "shell.execute_reply": "2022-09-16T18:23:23.004381Z"
        },
        "trusted": true,
        "id": "9O6xaJmOkkpN",
        "colab": {
          "base_uri": "https://localhost:8080/",
          "height": 363
        },
        "outputId": "8529759c-a96e-4300-e631-0c9622ec9510"
      },
      "execution_count": 13,
      "outputs": [
        {
          "output_type": "execute_result",
          "data": {
            "text/plain": [
              "      USER_ID VARIANT_NAME  REVENUE\n",
              "1437     3342      control   196.01\n",
              "8168     2166      control    29.32\n",
              "2482     7356      variant    23.04\n",
              "6412     1053      control    20.07\n",
              "5217     3684      variant    19.47\n",
              "5530      282      control    18.56\n",
              "758      4445      control    17.05\n",
              "4031     2059      control    14.24\n",
              "9019     1973      control    14.07\n",
              "4561     4966      variant    12.99"
            ],
            "text/html": [
              "\n",
              "  <div id=\"df-d1b5d7d8-5753-45f5-967f-1eb734077a40\" class=\"colab-df-container\">\n",
              "    <div>\n",
              "<style scoped>\n",
              "    .dataframe tbody tr th:only-of-type {\n",
              "        vertical-align: middle;\n",
              "    }\n",
              "\n",
              "    .dataframe tbody tr th {\n",
              "        vertical-align: top;\n",
              "    }\n",
              "\n",
              "    .dataframe thead th {\n",
              "        text-align: right;\n",
              "    }\n",
              "</style>\n",
              "<table border=\"1\" class=\"dataframe\">\n",
              "  <thead>\n",
              "    <tr style=\"text-align: right;\">\n",
              "      <th></th>\n",
              "      <th>USER_ID</th>\n",
              "      <th>VARIANT_NAME</th>\n",
              "      <th>REVENUE</th>\n",
              "    </tr>\n",
              "  </thead>\n",
              "  <tbody>\n",
              "    <tr>\n",
              "      <th>1437</th>\n",
              "      <td>3342</td>\n",
              "      <td>control</td>\n",
              "      <td>196.01</td>\n",
              "    </tr>\n",
              "    <tr>\n",
              "      <th>8168</th>\n",
              "      <td>2166</td>\n",
              "      <td>control</td>\n",
              "      <td>29.32</td>\n",
              "    </tr>\n",
              "    <tr>\n",
              "      <th>2482</th>\n",
              "      <td>7356</td>\n",
              "      <td>variant</td>\n",
              "      <td>23.04</td>\n",
              "    </tr>\n",
              "    <tr>\n",
              "      <th>6412</th>\n",
              "      <td>1053</td>\n",
              "      <td>control</td>\n",
              "      <td>20.07</td>\n",
              "    </tr>\n",
              "    <tr>\n",
              "      <th>5217</th>\n",
              "      <td>3684</td>\n",
              "      <td>variant</td>\n",
              "      <td>19.47</td>\n",
              "    </tr>\n",
              "    <tr>\n",
              "      <th>5530</th>\n",
              "      <td>282</td>\n",
              "      <td>control</td>\n",
              "      <td>18.56</td>\n",
              "    </tr>\n",
              "    <tr>\n",
              "      <th>758</th>\n",
              "      <td>4445</td>\n",
              "      <td>control</td>\n",
              "      <td>17.05</td>\n",
              "    </tr>\n",
              "    <tr>\n",
              "      <th>4031</th>\n",
              "      <td>2059</td>\n",
              "      <td>control</td>\n",
              "      <td>14.24</td>\n",
              "    </tr>\n",
              "    <tr>\n",
              "      <th>9019</th>\n",
              "      <td>1973</td>\n",
              "      <td>control</td>\n",
              "      <td>14.07</td>\n",
              "    </tr>\n",
              "    <tr>\n",
              "      <th>4561</th>\n",
              "      <td>4966</td>\n",
              "      <td>variant</td>\n",
              "      <td>12.99</td>\n",
              "    </tr>\n",
              "  </tbody>\n",
              "</table>\n",
              "</div>\n",
              "    <div class=\"colab-df-buttons\">\n",
              "\n",
              "  <div class=\"colab-df-container\">\n",
              "    <button class=\"colab-df-convert\" onclick=\"convertToInteractive('df-d1b5d7d8-5753-45f5-967f-1eb734077a40')\"\n",
              "            title=\"Convert this dataframe to an interactive table.\"\n",
              "            style=\"display:none;\">\n",
              "\n",
              "  <svg xmlns=\"http://www.w3.org/2000/svg\" height=\"24px\" viewBox=\"0 -960 960 960\">\n",
              "    <path d=\"M120-120v-720h720v720H120Zm60-500h600v-160H180v160Zm220 220h160v-160H400v160Zm0 220h160v-160H400v160ZM180-400h160v-160H180v160Zm440 0h160v-160H620v160ZM180-180h160v-160H180v160Zm440 0h160v-160H620v160Z\"/>\n",
              "  </svg>\n",
              "    </button>\n",
              "\n",
              "  <style>\n",
              "    .colab-df-container {\n",
              "      display:flex;\n",
              "      gap: 12px;\n",
              "    }\n",
              "\n",
              "    .colab-df-convert {\n",
              "      background-color: #E8F0FE;\n",
              "      border: none;\n",
              "      border-radius: 50%;\n",
              "      cursor: pointer;\n",
              "      display: none;\n",
              "      fill: #1967D2;\n",
              "      height: 32px;\n",
              "      padding: 0 0 0 0;\n",
              "      width: 32px;\n",
              "    }\n",
              "\n",
              "    .colab-df-convert:hover {\n",
              "      background-color: #E2EBFA;\n",
              "      box-shadow: 0px 1px 2px rgba(60, 64, 67, 0.3), 0px 1px 3px 1px rgba(60, 64, 67, 0.15);\n",
              "      fill: #174EA6;\n",
              "    }\n",
              "\n",
              "    .colab-df-buttons div {\n",
              "      margin-bottom: 4px;\n",
              "    }\n",
              "\n",
              "    [theme=dark] .colab-df-convert {\n",
              "      background-color: #3B4455;\n",
              "      fill: #D2E3FC;\n",
              "    }\n",
              "\n",
              "    [theme=dark] .colab-df-convert:hover {\n",
              "      background-color: #434B5C;\n",
              "      box-shadow: 0px 1px 3px 1px rgba(0, 0, 0, 0.15);\n",
              "      filter: drop-shadow(0px 1px 2px rgba(0, 0, 0, 0.3));\n",
              "      fill: #FFFFFF;\n",
              "    }\n",
              "  </style>\n",
              "\n",
              "    <script>\n",
              "      const buttonEl =\n",
              "        document.querySelector('#df-d1b5d7d8-5753-45f5-967f-1eb734077a40 button.colab-df-convert');\n",
              "      buttonEl.style.display =\n",
              "        google.colab.kernel.accessAllowed ? 'block' : 'none';\n",
              "\n",
              "      async function convertToInteractive(key) {\n",
              "        const element = document.querySelector('#df-d1b5d7d8-5753-45f5-967f-1eb734077a40');\n",
              "        const dataTable =\n",
              "          await google.colab.kernel.invokeFunction('convertToInteractive',\n",
              "                                                    [key], {});\n",
              "        if (!dataTable) return;\n",
              "\n",
              "        const docLinkHtml = 'Like what you see? Visit the ' +\n",
              "          '<a target=\"_blank\" href=https://colab.research.google.com/notebooks/data_table.ipynb>data table notebook</a>'\n",
              "          + ' to learn more about interactive tables.';\n",
              "        element.innerHTML = '';\n",
              "        dataTable['output_type'] = 'display_data';\n",
              "        await google.colab.output.renderOutput(dataTable, element);\n",
              "        const docLink = document.createElement('div');\n",
              "        docLink.innerHTML = docLinkHtml;\n",
              "        element.appendChild(docLink);\n",
              "      }\n",
              "    </script>\n",
              "  </div>\n",
              "\n",
              "\n",
              "<div id=\"df-c67177d7-5015-4dc0-abd0-e5774ee0e276\">\n",
              "  <button class=\"colab-df-quickchart\" onclick=\"quickchart('df-c67177d7-5015-4dc0-abd0-e5774ee0e276')\"\n",
              "            title=\"Suggest charts\"\n",
              "            style=\"display:none;\">\n",
              "\n",
              "<svg xmlns=\"http://www.w3.org/2000/svg\" height=\"24px\"viewBox=\"0 0 24 24\"\n",
              "     width=\"24px\">\n",
              "    <g>\n",
              "        <path d=\"M19 3H5c-1.1 0-2 .9-2 2v14c0 1.1.9 2 2 2h14c1.1 0 2-.9 2-2V5c0-1.1-.9-2-2-2zM9 17H7v-7h2v7zm4 0h-2V7h2v10zm4 0h-2v-4h2v4z\"/>\n",
              "    </g>\n",
              "</svg>\n",
              "  </button>\n",
              "\n",
              "<style>\n",
              "  .colab-df-quickchart {\n",
              "      --bg-color: #E8F0FE;\n",
              "      --fill-color: #1967D2;\n",
              "      --hover-bg-color: #E2EBFA;\n",
              "      --hover-fill-color: #174EA6;\n",
              "      --disabled-fill-color: #AAA;\n",
              "      --disabled-bg-color: #DDD;\n",
              "  }\n",
              "\n",
              "  [theme=dark] .colab-df-quickchart {\n",
              "      --bg-color: #3B4455;\n",
              "      --fill-color: #D2E3FC;\n",
              "      --hover-bg-color: #434B5C;\n",
              "      --hover-fill-color: #FFFFFF;\n",
              "      --disabled-bg-color: #3B4455;\n",
              "      --disabled-fill-color: #666;\n",
              "  }\n",
              "\n",
              "  .colab-df-quickchart {\n",
              "    background-color: var(--bg-color);\n",
              "    border: none;\n",
              "    border-radius: 50%;\n",
              "    cursor: pointer;\n",
              "    display: none;\n",
              "    fill: var(--fill-color);\n",
              "    height: 32px;\n",
              "    padding: 0;\n",
              "    width: 32px;\n",
              "  }\n",
              "\n",
              "  .colab-df-quickchart:hover {\n",
              "    background-color: var(--hover-bg-color);\n",
              "    box-shadow: 0 1px 2px rgba(60, 64, 67, 0.3), 0 1px 3px 1px rgba(60, 64, 67, 0.15);\n",
              "    fill: var(--button-hover-fill-color);\n",
              "  }\n",
              "\n",
              "  .colab-df-quickchart-complete:disabled,\n",
              "  .colab-df-quickchart-complete:disabled:hover {\n",
              "    background-color: var(--disabled-bg-color);\n",
              "    fill: var(--disabled-fill-color);\n",
              "    box-shadow: none;\n",
              "  }\n",
              "\n",
              "  .colab-df-spinner {\n",
              "    border: 2px solid var(--fill-color);\n",
              "    border-color: transparent;\n",
              "    border-bottom-color: var(--fill-color);\n",
              "    animation:\n",
              "      spin 1s steps(1) infinite;\n",
              "  }\n",
              "\n",
              "  @keyframes spin {\n",
              "    0% {\n",
              "      border-color: transparent;\n",
              "      border-bottom-color: var(--fill-color);\n",
              "      border-left-color: var(--fill-color);\n",
              "    }\n",
              "    20% {\n",
              "      border-color: transparent;\n",
              "      border-left-color: var(--fill-color);\n",
              "      border-top-color: var(--fill-color);\n",
              "    }\n",
              "    30% {\n",
              "      border-color: transparent;\n",
              "      border-left-color: var(--fill-color);\n",
              "      border-top-color: var(--fill-color);\n",
              "      border-right-color: var(--fill-color);\n",
              "    }\n",
              "    40% {\n",
              "      border-color: transparent;\n",
              "      border-right-color: var(--fill-color);\n",
              "      border-top-color: var(--fill-color);\n",
              "    }\n",
              "    60% {\n",
              "      border-color: transparent;\n",
              "      border-right-color: var(--fill-color);\n",
              "    }\n",
              "    80% {\n",
              "      border-color: transparent;\n",
              "      border-right-color: var(--fill-color);\n",
              "      border-bottom-color: var(--fill-color);\n",
              "    }\n",
              "    90% {\n",
              "      border-color: transparent;\n",
              "      border-bottom-color: var(--fill-color);\n",
              "    }\n",
              "  }\n",
              "</style>\n",
              "\n",
              "  <script>\n",
              "    async function quickchart(key) {\n",
              "      const quickchartButtonEl =\n",
              "        document.querySelector('#' + key + ' button');\n",
              "      quickchartButtonEl.disabled = true;  // To prevent multiple clicks.\n",
              "      quickchartButtonEl.classList.add('colab-df-spinner');\n",
              "      try {\n",
              "        const charts = await google.colab.kernel.invokeFunction(\n",
              "            'suggestCharts', [key], {});\n",
              "      } catch (error) {\n",
              "        console.error('Error during call to suggestCharts:', error);\n",
              "      }\n",
              "      quickchartButtonEl.classList.remove('colab-df-spinner');\n",
              "      quickchartButtonEl.classList.add('colab-df-quickchart-complete');\n",
              "    }\n",
              "    (() => {\n",
              "      let quickchartButtonEl =\n",
              "        document.querySelector('#df-c67177d7-5015-4dc0-abd0-e5774ee0e276 button');\n",
              "      quickchartButtonEl.style.display =\n",
              "        google.colab.kernel.accessAllowed ? 'block' : 'none';\n",
              "    })();\n",
              "  </script>\n",
              "</div>\n",
              "\n",
              "    </div>\n",
              "  </div>\n"
            ],
            "application/vnd.google.colaboratory.intrinsic+json": {
              "type": "dataframe",
              "summary": "{\n  \"name\": \"df\",\n  \"rows\": 10,\n  \"fields\": [\n    {\n      \"column\": \"USER_ID\",\n      \"properties\": {\n        \"dtype\": \"number\",\n        \"std\": 2085,\n        \"min\": 282,\n        \"max\": 7356,\n        \"num_unique_values\": 10,\n        \"samples\": [\n          1973,\n          2166,\n          282\n        ],\n        \"semantic_type\": \"\",\n        \"description\": \"\"\n      }\n    },\n    {\n      \"column\": \"VARIANT_NAME\",\n      \"properties\": {\n        \"dtype\": \"category\",\n        \"num_unique_values\": 2,\n        \"samples\": [\n          \"variant\",\n          \"control\"\n        ],\n        \"semantic_type\": \"\",\n        \"description\": \"\"\n      }\n    },\n    {\n      \"column\": \"REVENUE\",\n      \"properties\": {\n        \"dtype\": \"number\",\n        \"std\": 56.2609054712457,\n        \"min\": 12.99,\n        \"max\": 196.01,\n        \"num_unique_values\": 10,\n        \"samples\": [\n          14.07,\n          29.32\n        ],\n        \"semantic_type\": \"\",\n        \"description\": \"\"\n      }\n    }\n  ]\n}"
            }
          },
          "metadata": {},
          "execution_count": 13
        }
      ]
    },
    {
      "cell_type": "code",
      "source": [
        "# See if user 3342 had other events with a strong outlier\n",
        "df[df['USER_ID'] == 3342]"
      ],
      "metadata": {
        "execution": {
          "iopub.status.busy": "2022-09-16T18:23:23.009204Z",
          "iopub.execute_input": "2022-09-16T18:23:23.009563Z",
          "iopub.status.idle": "2022-09-16T18:23:23.022364Z",
          "shell.execute_reply.started": "2022-09-16T18:23:23.009514Z",
          "shell.execute_reply": "2022-09-16T18:23:23.020814Z"
        },
        "trusted": true,
        "id": "zzX8JJiIkkpN",
        "colab": {
          "base_uri": "https://localhost:8080/",
          "height": 81
        },
        "outputId": "3a4759f8-4670-44c5-81a0-1d9bd03bd31e"
      },
      "execution_count": 14,
      "outputs": [
        {
          "output_type": "execute_result",
          "data": {
            "text/plain": [
              "      USER_ID VARIANT_NAME  REVENUE\n",
              "1437     3342      control   196.01"
            ],
            "text/html": [
              "\n",
              "  <div id=\"df-4a1141b7-dd8c-44a6-888d-5f4ed1bdba0f\" class=\"colab-df-container\">\n",
              "    <div>\n",
              "<style scoped>\n",
              "    .dataframe tbody tr th:only-of-type {\n",
              "        vertical-align: middle;\n",
              "    }\n",
              "\n",
              "    .dataframe tbody tr th {\n",
              "        vertical-align: top;\n",
              "    }\n",
              "\n",
              "    .dataframe thead th {\n",
              "        text-align: right;\n",
              "    }\n",
              "</style>\n",
              "<table border=\"1\" class=\"dataframe\">\n",
              "  <thead>\n",
              "    <tr style=\"text-align: right;\">\n",
              "      <th></th>\n",
              "      <th>USER_ID</th>\n",
              "      <th>VARIANT_NAME</th>\n",
              "      <th>REVENUE</th>\n",
              "    </tr>\n",
              "  </thead>\n",
              "  <tbody>\n",
              "    <tr>\n",
              "      <th>1437</th>\n",
              "      <td>3342</td>\n",
              "      <td>control</td>\n",
              "      <td>196.01</td>\n",
              "    </tr>\n",
              "  </tbody>\n",
              "</table>\n",
              "</div>\n",
              "    <div class=\"colab-df-buttons\">\n",
              "\n",
              "  <div class=\"colab-df-container\">\n",
              "    <button class=\"colab-df-convert\" onclick=\"convertToInteractive('df-4a1141b7-dd8c-44a6-888d-5f4ed1bdba0f')\"\n",
              "            title=\"Convert this dataframe to an interactive table.\"\n",
              "            style=\"display:none;\">\n",
              "\n",
              "  <svg xmlns=\"http://www.w3.org/2000/svg\" height=\"24px\" viewBox=\"0 -960 960 960\">\n",
              "    <path d=\"M120-120v-720h720v720H120Zm60-500h600v-160H180v160Zm220 220h160v-160H400v160Zm0 220h160v-160H400v160ZM180-400h160v-160H180v160Zm440 0h160v-160H620v160ZM180-180h160v-160H180v160Zm440 0h160v-160H620v160Z\"/>\n",
              "  </svg>\n",
              "    </button>\n",
              "\n",
              "  <style>\n",
              "    .colab-df-container {\n",
              "      display:flex;\n",
              "      gap: 12px;\n",
              "    }\n",
              "\n",
              "    .colab-df-convert {\n",
              "      background-color: #E8F0FE;\n",
              "      border: none;\n",
              "      border-radius: 50%;\n",
              "      cursor: pointer;\n",
              "      display: none;\n",
              "      fill: #1967D2;\n",
              "      height: 32px;\n",
              "      padding: 0 0 0 0;\n",
              "      width: 32px;\n",
              "    }\n",
              "\n",
              "    .colab-df-convert:hover {\n",
              "      background-color: #E2EBFA;\n",
              "      box-shadow: 0px 1px 2px rgba(60, 64, 67, 0.3), 0px 1px 3px 1px rgba(60, 64, 67, 0.15);\n",
              "      fill: #174EA6;\n",
              "    }\n",
              "\n",
              "    .colab-df-buttons div {\n",
              "      margin-bottom: 4px;\n",
              "    }\n",
              "\n",
              "    [theme=dark] .colab-df-convert {\n",
              "      background-color: #3B4455;\n",
              "      fill: #D2E3FC;\n",
              "    }\n",
              "\n",
              "    [theme=dark] .colab-df-convert:hover {\n",
              "      background-color: #434B5C;\n",
              "      box-shadow: 0px 1px 3px 1px rgba(0, 0, 0, 0.15);\n",
              "      filter: drop-shadow(0px 1px 2px rgba(0, 0, 0, 0.3));\n",
              "      fill: #FFFFFF;\n",
              "    }\n",
              "  </style>\n",
              "\n",
              "    <script>\n",
              "      const buttonEl =\n",
              "        document.querySelector('#df-4a1141b7-dd8c-44a6-888d-5f4ed1bdba0f button.colab-df-convert');\n",
              "      buttonEl.style.display =\n",
              "        google.colab.kernel.accessAllowed ? 'block' : 'none';\n",
              "\n",
              "      async function convertToInteractive(key) {\n",
              "        const element = document.querySelector('#df-4a1141b7-dd8c-44a6-888d-5f4ed1bdba0f');\n",
              "        const dataTable =\n",
              "          await google.colab.kernel.invokeFunction('convertToInteractive',\n",
              "                                                    [key], {});\n",
              "        if (!dataTable) return;\n",
              "\n",
              "        const docLinkHtml = 'Like what you see? Visit the ' +\n",
              "          '<a target=\"_blank\" href=https://colab.research.google.com/notebooks/data_table.ipynb>data table notebook</a>'\n",
              "          + ' to learn more about interactive tables.';\n",
              "        element.innerHTML = '';\n",
              "        dataTable['output_type'] = 'display_data';\n",
              "        await google.colab.output.renderOutput(dataTable, element);\n",
              "        const docLink = document.createElement('div');\n",
              "        docLink.innerHTML = docLinkHtml;\n",
              "        element.appendChild(docLink);\n",
              "      }\n",
              "    </script>\n",
              "  </div>\n",
              "\n",
              "\n",
              "    </div>\n",
              "  </div>\n"
            ],
            "application/vnd.google.colaboratory.intrinsic+json": {
              "type": "dataframe",
              "summary": "{\n  \"name\": \"df[df['USER_ID'] == 3342]\",\n  \"rows\": 1,\n  \"fields\": [\n    {\n      \"column\": \"USER_ID\",\n      \"properties\": {\n        \"dtype\": \"number\",\n        \"std\": null,\n        \"min\": 3342,\n        \"max\": 3342,\n        \"num_unique_values\": 1,\n        \"samples\": [\n          3342\n        ],\n        \"semantic_type\": \"\",\n        \"description\": \"\"\n      }\n    },\n    {\n      \"column\": \"VARIANT_NAME\",\n      \"properties\": {\n        \"dtype\": \"string\",\n        \"num_unique_values\": 1,\n        \"samples\": [\n          \"control\"\n        ],\n        \"semantic_type\": \"\",\n        \"description\": \"\"\n      }\n    },\n    {\n      \"column\": \"REVENUE\",\n      \"properties\": {\n        \"dtype\": \"number\",\n        \"std\": null,\n        \"min\": 196.01,\n        \"max\": 196.01,\n        \"num_unique_values\": 1,\n        \"samples\": [\n          196.01\n        ],\n        \"semantic_type\": \"\",\n        \"description\": \"\"\n      }\n    }\n  ]\n}"
            }
          },
          "metadata": {},
          "execution_count": 14
        }
      ]
    },
    {
      "cell_type": "markdown",
      "source": [
        "We see that there is only one outlier - in conditions of limited information, we will remove this entry and look at the distribution of data again"
      ],
      "metadata": {
        "id": "rvfqeZW6kkpN"
      }
    },
    {
      "cell_type": "code",
      "source": [
        "# Rempve the outlier\n",
        "df = df[df['USER_ID'] != 3342]\n",
        "\n",
        "f, axes = plt.subplots(2, sharex=True, figsize=(5,12))\n",
        "sns.boxplot(ax = axes[0], x = 'VARIANT_NAME', y = 'REVENUE', data = df)\n",
        "sns.boxplot(ax = axes[1], x = 'VARIANT_NAME', y = 'REVENUE', data = df[df['REVENUE'] > 0])\n",
        "plt.xticks(np.arange(2), ('control', 'variant'))"
      ],
      "metadata": {
        "execution": {
          "iopub.status.busy": "2022-09-16T18:23:23.024282Z",
          "iopub.execute_input": "2022-09-16T18:23:23.024763Z",
          "iopub.status.idle": "2022-09-16T18:23:23.031917Z",
          "shell.execute_reply.started": "2022-09-16T18:23:23.024711Z",
          "shell.execute_reply": "2022-09-16T18:23:23.030566Z"
        },
        "trusted": true,
        "id": "9VHXOhaVkkpO",
        "colab": {
          "base_uri": "https://localhost:8080/",
          "height": 1000
        },
        "outputId": "51560e66-42af-4447-9ff4-cc4833a485d9"
      },
      "execution_count": 15,
      "outputs": [
        {
          "output_type": "execute_result",
          "data": {
            "text/plain": [
              "([<matplotlib.axis.XTick at 0x7f29dedf60b0>,\n",
              "  <matplotlib.axis.XTick at 0x7f29dedf6080>],\n",
              " [Text(0, 0, 'control'), Text(1, 0, 'variant')])"
            ]
          },
          "metadata": {},
          "execution_count": 15
        },
        {
          "output_type": "display_data",
          "data": {
            "text/plain": [
              "<Figure size 500x1200 with 2 Axes>"
            ],
            "image/png": "[encoded data removed]"
          },
          "metadata": {}
        }
      ]
    },
    {
      "cell_type": "markdown",
      "source": [
        "We see that most of the users have no purchases. Let's see either this is information on all users, regardless of their actions, or these records are put down in case of entry without purchases and there may be other records with positive revenue."
      ],
      "metadata": {
        "id": "r8pN_6oekkpO"
      }
    },
    {
      "cell_type": "code",
      "source": [
        "# TODO : Check if there are users who have records with zero and positive revenue\n",
        "(df.loc[\n",
        "    (df['REVENUE'] == 0) & (df['USER_ID'].isin(df.loc[df['REVENUE'] > 0, 'USER_ID'].values)),\n",
        "    'USER_ID'\n",
        "]).count()"
      ],
      "metadata": {
        "execution": {
          "iopub.status.busy": "2022-09-16T18:23:23.396475Z",
          "iopub.execute_input": "2022-09-16T18:23:23.397266Z",
          "iopub.status.idle": "2022-09-16T18:23:23.4091Z",
          "shell.execute_reply.started": "2022-09-16T18:23:23.397231Z",
          "shell.execute_reply": "2022-09-16T18:23:23.407843Z"
        },
        "trusted": true,
        "id": "VZ3v8TeekkpO",
        "colab": {
          "base_uri": "https://localhost:8080/"
        },
        "outputId": "e4da4632-cbc2-4eaa-9d9c-ef2018a99768"
      },
      "execution_count": 16,
      "outputs": [
        {
          "output_type": "execute_result",
          "data": {
            "text/plain": [
              "52"
            ]
          },
          "metadata": {},
          "execution_count": 16
        }
      ]
    },
    {
      "cell_type": "markdown",
      "source": [
        "The same user can have records with both zero and positive revenue.\n",
        "\n",
        "Let's make the assumption that the records are user visits to the service, and the experimental unit is users.\n"
      ],
      "metadata": {
        "id": "u_G7PRphkkpO"
      }
    },
    {
      "cell_type": "code",
      "source": [
        "# Group the data for each user and sum the revenue for each to get one record per user\n",
        "df = df.groupby(by=['USER_ID', 'VARIANT_NAME']).sum().reset_index()"
      ],
      "metadata": {
        "execution": {
          "iopub.status.busy": "2022-09-16T18:23:23.410519Z",
          "iopub.execute_input": "2022-09-16T18:23:23.411317Z",
          "iopub.status.idle": "2022-09-16T18:23:23.425157Z",
          "shell.execute_reply.started": "2022-09-16T18:23:23.411275Z",
          "shell.execute_reply": "2022-09-16T18:23:23.423982Z"
        },
        "trusted": true,
        "id": "R5GdAtTXkkpP"
      },
      "execution_count": 17,
      "outputs": []
    },
    {
      "cell_type": "code",
      "source": [
        "# Visualize the resulting distribution of the data again.\n",
        "f, axes = plt.subplots(2, sharex=True, figsize=(5,12))\n",
        "sns.boxplot(ax = axes[0], x = 'VARIANT_NAME', y = 'REVENUE', data = df)\n",
        "sns.boxplot(ax = axes[1], x = 'VARIANT_NAME', y = 'REVENUE', data = df[df['REVENUE'] > 0])\n",
        "plt.xticks(np.arange(2), ('control', 'variant'))"
      ],
      "metadata": {
        "execution": {
          "iopub.status.busy": "2022-09-16T18:23:23.428689Z",
          "iopub.execute_input": "2022-09-16T18:23:23.428999Z",
          "iopub.status.idle": "2022-09-16T18:23:23.783807Z",
          "shell.execute_reply.started": "2022-09-16T18:23:23.428972Z",
          "shell.execute_reply": "2022-09-16T18:23:23.782679Z"
        },
        "trusted": true,
        "id": "Q7H93ZwNkkpP",
        "colab": {
          "base_uri": "https://localhost:8080/",
          "height": 1000
        },
        "outputId": "2583124a-ce94-4ef4-bb30-85897c70e377"
      },
      "execution_count": 18,
      "outputs": [
        {
          "output_type": "execute_result",
          "data": {
            "text/plain": [
              "([<matplotlib.axis.XTick at 0x7f29ded3eda0>,\n",
              "  <matplotlib.axis.XTick at 0x7f29ded3ed70>],\n",
              " [Text(0, 0, 'control'), Text(1, 0, 'variant')])"
            ]
          },
          "metadata": {},
          "execution_count": 18
        },
        {
          "output_type": "display_data",
          "data": {
            "text/plain": [
              "<Figure size 500x1200 with 2 Axes>"
            ],
            "image/png": "[encoded data removed]"
          },
          "metadata": {}
        }
      ]
    },
    {
      "cell_type": "markdown",
      "source": [
        "It should be noted that during the transformation, the quantiles in the test group increased\n",
        "\n",
        "It can be seen that in the test group, almost all quantile statistics, except for the minimum, are at a slightly lower level.\n",
        "\n",
        "Let's look at various statistics in the context of AB test groups for all users"
      ],
      "metadata": {
        "id": "_NTyRweHkkpP"
      }
    },
    {
      "cell_type": "code",
      "source": [
        "# get metrics by groups\n",
        "all_stat = df.groupby(by='VARIANT_NAME').agg({'USER_ID': 'nunique',\n",
        "                                               'REVENUE': ['sum', 'mean', 'median', 'count']})\n",
        "\n",
        "# create two additional metrics to see relative changes\n",
        "orders_per_user = all_stat.loc[:, ('REVENUE', 'count')] / all_stat.loc[:, ('USER_ID', 'nunique')]\n",
        "revenue_per_user = all_stat.loc[:, ('REVENUE', 'sum')] / all_stat.loc[:, ('USER_ID', 'nunique')]\n",
        "\n",
        "# add them to the rest of the metrics in a separate group\n",
        "all_stat.loc[:, ('per_user', 'orders')] = orders_per_user\n",
        "all_stat.loc[:, ('per_user', 'revenue')] = revenue_per_user\n",
        "\n",
        "all_stat\n"
      ],
      "metadata": {
        "execution": {
          "iopub.status.busy": "2022-09-16T18:23:23.785212Z",
          "iopub.execute_input": "2022-09-16T18:23:23.78594Z",
          "iopub.status.idle": "2022-09-16T18:23:23.813162Z",
          "shell.execute_reply.started": "2022-09-16T18:23:23.785905Z",
          "shell.execute_reply": "2022-09-16T18:23:23.812388Z"
        },
        "trusted": true,
        "id": "9QF5FZTAkkpP",
        "colab": {
          "base_uri": "https://localhost:8080/",
          "height": 175
        },
        "outputId": "d27df6e2-d00f-4edb-b40c-26a843c79216"
      },
      "execution_count": 19,
      "outputs": [
        {
          "output_type": "execute_result",
          "data": {
            "text/plain": [
              "             USER_ID REVENUE                        per_user          \n",
              "             nunique     sum      mean median count   orders   revenue\n",
              "VARIANT_NAME                                                          \n",
              "control         2389  274.55  0.114923    0.0  2389      1.0  0.114923\n",
              "variant         2393  179.32  0.074935    0.0  2393      1.0  0.074935"
            ],
            "text/html": [
              "\n",
              "  <div id=\"df-0c6705a1-910c-41af-8634-aad90f388b89\" class=\"colab-df-container\">\n",
              "    <div>\n",
              "<style scoped>\n",
              "    .dataframe tbody tr th:only-of-type {\n",
              "        vertical-align: middle;\n",
              "    }\n",
              "\n",
              "    .dataframe tbody tr th {\n",
              "        vertical-align: top;\n",
              "    }\n",
              "\n",
              "    .dataframe thead tr th {\n",
              "        text-align: left;\n",
              "    }\n",
              "\n",
              "    .dataframe thead tr:last-of-type th {\n",
              "        text-align: right;\n",
              "    }\n",
              "</style>\n",
              "<table border=\"1\" class=\"dataframe\">\n",
              "  <thead>\n",
              "    <tr>\n",
              "      <th></th>\n",
              "      <th>USER_ID</th>\n",
              "      <th colspan=\"4\" halign=\"left\">REVENUE</th>\n",
              "      <th colspan=\"2\" halign=\"left\">per_user</th>\n",
              "    </tr>\n",
              "    <tr>\n",
              "      <th></th>\n",
              "      <th>nunique</th>\n",
              "      <th>sum</th>\n",
              "      <th>mean</th>\n",
              "      <th>median</th>\n",
              "      <th>count</th>\n",
              "      <th>orders</th>\n",
              "      <th>revenue</th>\n",
              "    </tr>\n",
              "    <tr>\n",
              "      <th>VARIANT_NAME</th>\n",
              "      <th></th>\n",
              "      <th></th>\n",
              "      <th></th>\n",
              "      <th></th>\n",
              "      <th></th>\n",
              "      <th></th>\n",
              "      <th></th>\n",
              "    </tr>\n",
              "  </thead>\n",
              "  <tbody>\n",
              "    <tr>\n",
              "      <th>control</th>\n",
              "      <td>2389</td>\n",
              "      <td>274.55</td>\n",
              "      <td>0.114923</td>\n",
              "      <td>0.0</td>\n",
              "      <td>2389</td>\n",
              "      <td>1.0</td>\n",
              "      <td>0.114923</td>\n",
              "    </tr>\n",
              "    <tr>\n",
              "      <th>variant</th>\n",
              "      <td>2393</td>\n",
              "      <td>179.32</td>\n",
              "      <td>0.074935</td>\n",
              "      <td>0.0</td>\n",
              "      <td>2393</td>\n",
              "      <td>1.0</td>\n",
              "      <td>0.074935</td>\n",
              "    </tr>\n",
              "  </tbody>\n",
              "</table>\n",
              "</div>\n",
              "    <div class=\"colab-df-buttons\">\n",
              "\n",
              "  <div class=\"colab-df-container\">\n",
              "    <button class=\"colab-df-convert\" onclick=\"convertToInteractive('df-0c6705a1-910c-41af-8634-aad90f388b89')\"\n",
              "            title=\"Convert this dataframe to an interactive table.\"\n",
              "            style=\"display:none;\">\n",
              "\n",
              "  <svg xmlns=\"http://www.w3.org/2000/svg\" height=\"24px\" viewBox=\"0 -960 960 960\">\n",
              "    <path d=\"M120-120v-720h720v720H120Zm60-500h600v-160H180v160Zm220 220h160v-160H400v160Zm0 220h160v-160H400v160ZM180-400h160v-160H180v160Zm440 0h160v-160H620v160ZM180-180h160v-160H180v160Zm440 0h160v-160H620v160Z\"/>\n",
              "  </svg>\n",
              "    </button>\n",
              "\n",
              "  <style>\n",
              "    .colab-df-container {\n",
              "      display:flex;\n",
              "      gap: 12px;\n",
              "    }\n",
              "\n",
              "    .colab-df-convert {\n",
              "      background-color: #E8F0FE;\n",
              "      border: none;\n",
              "      border-radius: 50%;\n",
              "      cursor: pointer;\n",
              "      display: none;\n",
              "      fill: #1967D2;\n",
              "      height: 32px;\n",
              "      padding: 0 0 0 0;\n",
              "      width: 32px;\n",
              "    }\n",
              "\n",
              "    .colab-df-convert:hover {\n",
              "      background-color: #E2EBFA;\n",
              "      box-shadow: 0px 1px 2px rgba(60, 64, 67, 0.3), 0px 1px 3px 1px rgba(60, 64, 67, 0.15);\n",
              "      fill: #174EA6;\n",
              "    }\n",
              "\n",
              "    .colab-df-buttons div {\n",
              "      margin-bottom: 4px;\n",
              "    }\n",
              "\n",
              "    [theme=dark] .colab-df-convert {\n",
              "      background-color: #3B4455;\n",
              "      fill: #D2E3FC;\n",
              "    }\n",
              "\n",
              "    [theme=dark] .colab-df-convert:hover {\n",
              "      background-color: #434B5C;\n",
              "      box-shadow: 0px 1px 3px 1px rgba(0, 0, 0, 0.15);\n",
              "      filter: drop-shadow(0px 1px 2px rgba(0, 0, 0, 0.3));\n",
              "      fill: #FFFFFF;\n",
              "    }\n",
              "  </style>\n",
              "\n",
              "    <script>\n",
              "      const buttonEl =\n",
              "        document.querySelector('#df-0c6705a1-910c-41af-8634-aad90f388b89 button.colab-df-convert');\n",
              "      buttonEl.style.display =\n",
              "        google.colab.kernel.accessAllowed ? 'block' : 'none';\n",
              "\n",
              "      async function convertToInteractive(key) {\n",
              "        const element = document.querySelector('#df-0c6705a1-910c-41af-8634-aad90f388b89');\n",
              "        const dataTable =\n",
              "          await google.colab.kernel.invokeFunction('convertToInteractive',\n",
              "                                                    [key], {});\n",
              "        if (!dataTable) return;\n",
              "\n",
              "        const docLinkHtml = 'Like what you see? Visit the ' +\n",
              "          '<a target=\"_blank\" href=https://colab.research.google.com/notebooks/data_table.ipynb>data table notebook</a>'\n",
              "          + ' to learn more about interactive tables.';\n",
              "        element.innerHTML = '';\n",
              "        dataTable['output_type'] = 'display_data';\n",
              "        await google.colab.output.renderOutput(dataTable, element);\n",
              "        const docLink = document.createElement('div');\n",
              "        docLink.innerHTML = docLinkHtml;\n",
              "        element.appendChild(docLink);\n",
              "      }\n",
              "    </script>\n",
              "  </div>\n",
              "\n",
              "\n",
              "<div id=\"df-7f8f8692-8fa1-42a4-9c82-bce133ca7163\">\n",
              "  <button class=\"colab-df-quickchart\" onclick=\"quickchart('df-7f8f8692-8fa1-42a4-9c82-bce133ca7163')\"\n",
              "            title=\"Suggest charts\"\n",
              "            style=\"display:none;\">\n",
              "\n",
              "<svg xmlns=\"http://www.w3.org/2000/svg\" height=\"24px\"viewBox=\"0 0 24 24\"\n",
              "     width=\"24px\">\n",
              "    <g>\n",
              "        <path d=\"M19 3H5c-1.1 0-2 .9-2 2v14c0 1.1.9 2 2 2h14c1.1 0 2-.9 2-2V5c0-1.1-.9-2-2-2zM9 17H7v-7h2v7zm4 0h-2V7h2v10zm4 0h-2v-4h2v4z\"/>\n",
              "    </g>\n",
              "</svg>\n",
              "  </button>\n",
              "\n",
              "<style>\n",
              "  .colab-df-quickchart {\n",
              "      --bg-color: #E8F0FE;\n",
              "      --fill-color: #1967D2;\n",
              "      --hover-bg-color: #E2EBFA;\n",
              "      --hover-fill-color: #174EA6;\n",
              "      --disabled-fill-color: #AAA;\n",
              "      --disabled-bg-color: #DDD;\n",
              "  }\n",
              "\n",
              "  [theme=dark] .colab-df-quickchart {\n",
              "      --bg-color: #3B4455;\n",
              "      --fill-color: #D2E3FC;\n",
              "      --hover-bg-color: #434B5C;\n",
              "      --hover-fill-color: #FFFFFF;\n",
              "      --disabled-bg-color: #3B4455;\n",
              "      --disabled-fill-color: #666;\n",
              "  }\n",
              "\n",
              "  .colab-df-quickchart {\n",
              "    background-color: var(--bg-color);\n",
              "    border: none;\n",
              "    border-radius: 50%;\n",
              "    cursor: pointer;\n",
              "    display: none;\n",
              "    fill: var(--fill-color);\n",
              "    height: 32px;\n",
              "    padding: 0;\n",
              "    width: 32px;\n",
              "  }\n",
              "\n",
              "  .colab-df-quickchart:hover {\n",
              "    background-color: var(--hover-bg-color);\n",
              "    box-shadow: 0 1px 2px rgba(60, 64, 67, 0.3), 0 1px 3px 1px rgba(60, 64, 67, 0.15);\n",
              "    fill: var(--button-hover-fill-color);\n",
              "  }\n",
              "\n",
              "  .colab-df-quickchart-complete:disabled,\n",
              "  .colab-df-quickchart-complete:disabled:hover {\n",
              "    background-color: var(--disabled-bg-color);\n",
              "    fill: var(--disabled-fill-color);\n",
              "    box-shadow: none;\n",
              "  }\n",
              "\n",
              "  .colab-df-spinner {\n",
              "    border: 2px solid var(--fill-color);\n",
              "    border-color: transparent;\n",
              "    border-bottom-color: var(--fill-color);\n",
              "    animation:\n",
              "      spin 1s steps(1) infinite;\n",
              "  }\n",
              "\n",
              "  @keyframes spin {\n",
              "    0% {\n",
              "      border-color: transparent;\n",
              "      border-bottom-color: var(--fill-color);\n",
              "      border-left-color: var(--fill-color);\n",
              "    }\n",
              "    20% {\n",
              "      border-color: transparent;\n",
              "      border-left-color: var(--fill-color);\n",
              "      border-top-color: var(--fill-color);\n",
              "    }\n",
              "    30% {\n",
              "      border-color: transparent;\n",
              "      border-left-color: var(--fill-color);\n",
              "      border-top-color: var(--fill-color);\n",
              "      border-right-color: var(--fill-color);\n",
              "    }\n",
              "    40% {\n",
              "      border-color: transparent;\n",
              "      border-right-color: var(--fill-color);\n",
              "      border-top-color: var(--fill-color);\n",
              "    }\n",
              "    60% {\n",
              "      border-color: transparent;\n",
              "      border-right-color: var(--fill-color);\n",
              "    }\n",
              "    80% {\n",
              "      border-color: transparent;\n",
              "      border-right-color: var(--fill-color);\n",
              "      border-bottom-color: var(--fill-color);\n",
              "    }\n",
              "    90% {\n",
              "      border-color: transparent;\n",
              "      border-bottom-color: var(--fill-color);\n",
              "    }\n",
              "  }\n",
              "</style>\n",
              "\n",
              "  <script>\n",
              "    async function quickchart(key) {\n",
              "      const quickchartButtonEl =\n",
              "        document.querySelector('#' + key + ' button');\n",
              "      quickchartButtonEl.disabled = true;  // To prevent multiple clicks.\n",
              "      quickchartButtonEl.classList.add('colab-df-spinner');\n",
              "      try {\n",
              "        const charts = await google.colab.kernel.invokeFunction(\n",
              "            'suggestCharts', [key], {});\n",
              "      } catch (error) {\n",
              "        console.error('Error during call to suggestCharts:', error);\n",
              "      }\n",
              "      quickchartButtonEl.classList.remove('colab-df-spinner');\n",
              "      quickchartButtonEl.classList.add('colab-df-quickchart-complete');\n",
              "    }\n",
              "    (() => {\n",
              "      let quickchartButtonEl =\n",
              "        document.querySelector('#df-7f8f8692-8fa1-42a4-9c82-bce133ca7163 button');\n",
              "      quickchartButtonEl.style.display =\n",
              "        google.colab.kernel.accessAllowed ? 'block' : 'none';\n",
              "    })();\n",
              "  </script>\n",
              "</div>\n",
              "\n",
              "  <div id=\"id_42d04687-4fa8-4fe6-930e-0f93b2ec90fb\">\n",
              "    <style>\n",
              "      .colab-df-generate {\n",
              "        background-color: #E8F0FE;\n",
              "        border: none;\n",
              "        border-radius: 50%;\n",
              "        cursor: pointer;\n",
              "        display: none;\n",
              "        fill: #1967D2;\n",
              "        height: 32px;\n",
              "        padding: 0 0 0 0;\n",
              "        width: 32px;\n",
              "      }\n",
              "\n",
              "      .colab-df-generate:hover {\n",
              "        background-color: #E2EBFA;\n",
              "        box-shadow: 0px 1px 2px rgba(60, 64, 67, 0.3), 0px 1px 3px 1px rgba(60, 64, 67, 0.15);\n",
              "        fill: #174EA6;\n",
              "      }\n",
              "\n",
              "      [theme=dark] .colab-df-generate {\n",
              "        background-color: #3B4455;\n",
              "        fill: #D2E3FC;\n",
              "      }\n",
              "\n",
              "      [theme=dark] .colab-df-generate:hover {\n",
              "        background-color: #434B5C;\n",
              "        box-shadow: 0px 1px 3px 1px rgba(0, 0, 0, 0.15);\n",
              "        filter: drop-shadow(0px 1px 2px rgba(0, 0, 0, 0.3));\n",
              "        fill: #FFFFFF;\n",
              "      }\n",
              "    </style>\n",
              "    <button class=\"colab-df-generate\" onclick=\"generateWithVariable('all_stat')\"\n",
              "            title=\"Generate code using this dataframe.\"\n",
              "            style=\"display:none;\">\n",
              "\n",
              "  <svg xmlns=\"http://www.w3.org/2000/svg\" height=\"24px\"viewBox=\"0 0 24 24\"\n",
              "       width=\"24px\">\n",
              "    <path d=\"M7,19H8.4L18.45,9,17,7.55,7,17.6ZM5,21V16.75L18.45,3.32a2,2,0,0,1,2.83,0l1.4,1.43a1.91,1.91,0,0,1,.58,1.4,1.91,1.91,0,0,1-.58,1.4L9.25,21ZM18.45,9,17,7.55Zm-12,3A5.31,5.31,0,0,0,4.9,8.1,5.31,5.31,0,0,0,1,6.5,5.31,5.31,0,0,0,4.9,4.9,5.31,5.31,0,0,0,6.5,1,5.31,5.31,0,0,0,8.1,4.9,5.31,5.31,0,0,0,12,6.5,5.46,5.46,0,0,0,6.5,12Z\"/>\n",
              "  </svg>\n",
              "    </button>\n",
              "    <script>\n",
              "      (() => {\n",
              "      const buttonEl =\n",
              "        document.querySelector('#id_42d04687-4fa8-4fe6-930e-0f93b2ec90fb button.colab-df-generate');\n",
              "      buttonEl.style.display =\n",
              "        google.colab.kernel.accessAllowed ? 'block' : 'none';\n",
              "\n",
              "      buttonEl.onclick = () => {\n",
              "        google.colab.notebook.generateWithVariable('all_stat');\n",
              "      }\n",
              "      })();\n",
              "    </script>\n",
              "  </div>\n",
              "\n",
              "    </div>\n",
              "  </div>\n"
            ],
            "application/vnd.google.colaboratory.intrinsic+json": {
              "type": "dataframe",
              "variable_name": "all_stat",
              "summary": "{\n  \"name\": \"all_stat\",\n  \"rows\": 2,\n  \"fields\": [\n    {\n      \"column\": [\n        \"VARIANT_NAME\",\n        \"\"\n      ],\n      \"properties\": {\n        \"dtype\": \"string\",\n        \"num_unique_values\": 2,\n        \"samples\": [\n          \"variant\",\n          \"control\"\n        ],\n        \"semantic_type\": \"\",\n        \"description\": \"\"\n      }\n    },\n    {\n      \"column\": [\n        \"USER_ID\",\n        \"nunique\"\n      ],\n      \"properties\": {\n        \"dtype\": \"number\",\n        \"std\": 2,\n        \"min\": 2389,\n        \"max\": 2393,\n        \"num_unique_values\": 2,\n        \"samples\": [\n          2393,\n          2389\n        ],\n        \"semantic_type\": \"\",\n        \"description\": \"\"\n      }\n    },\n    {\n      \"column\": [\n        \"REVENUE\",\n        \"sum\"\n      ],\n      \"properties\": {\n        \"dtype\": \"number\",\n        \"std\": 67.33777877239493,\n        \"min\": 179.32,\n        \"max\": 274.55,\n        \"num_unique_values\": 2,\n        \"samples\": [\n          179.32,\n          274.55\n        ],\n        \"semantic_type\": \"\",\n        \"description\": \"\"\n      }\n    },\n    {\n      \"column\": [\n        \"REVENUE\",\n        \"mean\"\n      ],\n      \"properties\": {\n        \"dtype\": \"number\",\n        \"std\": 0.028275315028528786,\n        \"min\": 0.07493522774759716,\n        \"max\": 0.11492256174131436,\n        \"num_unique_values\": 2,\n        \"samples\": [\n          0.07493522774759716,\n          0.11492256174131436\n        ],\n        \"semantic_type\": \"\",\n        \"description\": \"\"\n      }\n    },\n    {\n      \"column\": [\n        \"REVENUE\",\n        \"median\"\n      ],\n      \"properties\": {\n        \"dtype\": \"number\",\n        \"std\": 0.0,\n        \"min\": 0.0,\n        \"max\": 0.0,\n        \"num_unique_values\": 1,\n        \"samples\": [\n          0.0\n        ],\n        \"semantic_type\": \"\",\n        \"description\": \"\"\n      }\n    },\n    {\n      \"column\": [\n        \"REVENUE\",\n        \"count\"\n      ],\n      \"properties\": {\n        \"dtype\": \"number\",\n        \"std\": 2,\n        \"min\": 2389,\n        \"max\": 2393,\n        \"num_unique_values\": 2,\n        \"samples\": [\n          2393\n        ],\n        \"semantic_type\": \"\",\n        \"description\": \"\"\n      }\n    },\n    {\n      \"column\": [\n        \"per_user\",\n        \"orders\"\n      ],\n      \"properties\": {\n        \"dtype\": \"number\",\n        \"std\": 0.0,\n        \"min\": 1.0,\n        \"max\": 1.0,\n        \"num_unique_values\": 1,\n        \"samples\": [\n          1.0\n        ],\n        \"semantic_type\": \"\",\n        \"description\": \"\"\n      }\n    },\n    {\n      \"column\": [\n        \"per_user\",\n        \"revenue\"\n      ],\n      \"properties\": {\n        \"dtype\": \"number\",\n        \"std\": 0.028275315028528786,\n        \"min\": 0.07493522774759716,\n        \"max\": 0.11492256174131436,\n        \"num_unique_values\": 2,\n        \"samples\": [\n          0.07493522774759716\n        ],\n        \"semantic_type\": \"\",\n        \"description\": \"\"\n      }\n    }\n  ]\n}"
            }
          },
          "metadata": {},
          "execution_count": 19
        }
      ]
    },
    {
      "cell_type": "markdown",
      "source": [
        "We see that in the test group, the total amount of revenue and the average check per user decreased, but the number of orders per user slightly increased\n",
        "\n",
        "Let's also see how paying users behave :"
      ],
      "metadata": {
        "id": "-FEgWEXckkpP"
      }
    },
    {
      "cell_type": "code",
      "source": [
        "# get metrics by groups\n",
        "paid_stat = df.loc[df.REVENUE != 0].groupby(by='VARIANT_NAME').agg({'USER_ID': 'nunique',\n",
        "                                                                     'REVENUE': ['sum', 'mean', 'median', 'count']})\n",
        "\n",
        "# add two additional metrics to see relative changes\n",
        "orders_per_user = paid_stat.loc[:, ('REVENUE', 'count')] / paid_stat.loc[:, ('USER_ID', 'nunique')]\n",
        "revenue_per_user = paid_stat.loc[:, ('REVENUE', 'sum')] / paid_stat.loc[:, ('USER_ID', 'nunique')]\n",
        "paid_stat.loc[:, ('per_user', 'orders')] = orders_per_user\n",
        "paid_stat.loc[:, ('per_user', 'revenue')] = revenue_per_user\n",
        "\n",
        "paid_stat"
      ],
      "metadata": {
        "execution": {
          "iopub.status.busy": "2022-09-16T18:23:23.814201Z",
          "iopub.execute_input": "2022-09-16T18:23:23.814781Z",
          "iopub.status.idle": "2022-09-16T18:23:23.842362Z",
          "shell.execute_reply.started": "2022-09-16T18:23:23.814749Z",
          "shell.execute_reply": "2022-09-16T18:23:23.841593Z"
        },
        "trusted": true,
        "id": "ZM1LQ1VrkkpQ",
        "colab": {
          "base_uri": "https://localhost:8080/",
          "height": 175
        },
        "outputId": "5f96cccb-ccec-412b-d778-1d4095ba772b"
      },
      "execution_count": 20,
      "outputs": [
        {
          "output_type": "execute_result",
          "data": {
            "text/plain": [
              "             USER_ID REVENUE                        per_user          \n",
              "             nunique     sum      mean median count   orders   revenue\n",
              "VARIANT_NAME                                                          \n",
              "control           53  274.55  5.180189   2.99    53      1.0  5.180189\n",
              "variant           42  179.32  4.269524   2.97    42      1.0  4.269524"
            ],
            "text/html": [
              "\n",
              "  <div id=\"df-1e81ee2f-380a-4741-ba40-38f009b439e3\" class=\"colab-df-container\">\n",
              "    <div>\n",
              "<style scoped>\n",
              "    .dataframe tbody tr th:only-of-type {\n",
              "        vertical-align: middle;\n",
              "    }\n",
              "\n",
              "    .dataframe tbody tr th {\n",
              "        vertical-align: top;\n",
              "    }\n",
              "\n",
              "    .dataframe thead tr th {\n",
              "        text-align: left;\n",
              "    }\n",
              "\n",
              "    .dataframe thead tr:last-of-type th {\n",
              "        text-align: right;\n",
              "    }\n",
              "</style>\n",
              "<table border=\"1\" class=\"dataframe\">\n",
              "  <thead>\n",
              "    <tr>\n",
              "      <th></th>\n",
              "      <th>USER_ID</th>\n",
              "      <th colspan=\"4\" halign=\"left\">REVENUE</th>\n",
              "      <th colspan=\"2\" halign=\"left\">per_user</th>\n",
              "    </tr>\n",
              "    <tr>\n",
              "      <th></th>\n",
              "      <th>nunique</th>\n",
              "      <th>sum</th>\n",
              "      <th>mean</th>\n",
              "      <th>median</th>\n",
              "      <th>count</th>\n",
              "      <th>orders</th>\n",
              "      <th>revenue</th>\n",
              "    </tr>\n",
              "    <tr>\n",
              "      <th>VARIANT_NAME</th>\n",
              "      <th></th>\n",
              "      <th></th>\n",
              "      <th></th>\n",
              "      <th></th>\n",
              "      <th></th>\n",
              "      <th></th>\n",
              "      <th></th>\n",
              "    </tr>\n",
              "  </thead>\n",
              "  <tbody>\n",
              "    <tr>\n",
              "      <th>control</th>\n",
              "      <td>53</td>\n",
              "      <td>274.55</td>\n",
              "      <td>5.180189</td>\n",
              "      <td>2.99</td>\n",
              "      <td>53</td>\n",
              "      <td>1.0</td>\n",
              "      <td>5.180189</td>\n",
              "    </tr>\n",
              "    <tr>\n",
              "      <th>variant</th>\n",
              "      <td>42</td>\n",
              "      <td>179.32</td>\n",
              "      <td>4.269524</td>\n",
              "      <td>2.97</td>\n",
              "      <td>42</td>\n",
              "      <td>1.0</td>\n",
              "      <td>4.269524</td>\n",
              "    </tr>\n",
              "  </tbody>\n",
              "</table>\n",
              "</div>\n",
              "    <div class=\"colab-df-buttons\">\n",
              "\n",
              "  <div class=\"colab-df-container\">\n",
              "    <button class=\"colab-df-convert\" onclick=\"convertToInteractive('df-1e81ee2f-380a-4741-ba40-38f009b439e3')\"\n",
              "            title=\"Convert this dataframe to an interactive table.\"\n",
              "            style=\"display:none;\">\n",
              "\n",
              "  <svg xmlns=\"http://www.w3.org/2000/svg\" height=\"24px\" viewBox=\"0 -960 960 960\">\n",
              "    <path d=\"M120-120v-720h720v720H120Zm60-500h600v-160H180v160Zm220 220h160v-160H400v160Zm0 220h160v-160H400v160ZM180-400h160v-160H180v160Zm440 0h160v-160H620v160ZM180-180h160v-160H180v160Zm440 0h160v-160H620v160Z\"/>\n",
              "  </svg>\n",
              "    </button>\n",
              "\n",
              "  <style>\n",
              "    .colab-df-container {\n",
              "      display:flex;\n",
              "      gap: 12px;\n",
              "    }\n",
              "\n",
              "    .colab-df-convert {\n",
              "      background-color: #E8F0FE;\n",
              "      border: none;\n",
              "      border-radius: 50%;\n",
              "      cursor: pointer;\n",
              "      display: none;\n",
              "      fill: #1967D2;\n",
              "      height: 32px;\n",
              "      padding: 0 0 0 0;\n",
              "      width: 32px;\n",
              "    }\n",
              "\n",
              "    .colab-df-convert:hover {\n",
              "      background-color: #E2EBFA;\n",
              "      box-shadow: 0px 1px 2px rgba(60, 64, 67, 0.3), 0px 1px 3px 1px rgba(60, 64, 67, 0.15);\n",
              "      fill: #174EA6;\n",
              "    }\n",
              "\n",
              "    .colab-df-buttons div {\n",
              "      margin-bottom: 4px;\n",
              "    }\n",
              "\n",
              "    [theme=dark] .colab-df-convert {\n",
              "      background-color: #3B4455;\n",
              "      fill: #D2E3FC;\n",
              "    }\n",
              "\n",
              "    [theme=dark] .colab-df-convert:hover {\n",
              "      background-color: #434B5C;\n",
              "      box-shadow: 0px 1px 3px 1px rgba(0, 0, 0, 0.15);\n",
              "      filter: drop-shadow(0px 1px 2px rgba(0, 0, 0, 0.3));\n",
              "      fill: #FFFFFF;\n",
              "    }\n",
              "  </style>\n",
              "\n",
              "    <script>\n",
              "      const buttonEl =\n",
              "        document.querySelector('#df-1e81ee2f-380a-4741-ba40-38f009b439e3 button.colab-df-convert');\n",
              "      buttonEl.style.display =\n",
              "        google.colab.kernel.accessAllowed ? 'block' : 'none';\n",
              "\n",
              "      async function convertToInteractive(key) {\n",
              "        const element = document.querySelector('#df-1e81ee2f-380a-4741-ba40-38f009b439e3');\n",
              "        const dataTable =\n",
              "          await google.colab.kernel.invokeFunction('convertToInteractive',\n",
              "                                                    [key], {});\n",
              "        if (!dataTable) return;\n",
              "\n",
              "        const docLinkHtml = 'Like what you see? Visit the ' +\n",
              "          '<a target=\"_blank\" href=https://colab.research.google.com/notebooks/data_table.ipynb>data table notebook</a>'\n",
              "          + ' to learn more about interactive tables.';\n",
              "        element.innerHTML = '';\n",
              "        dataTable['output_type'] = 'display_data';\n",
              "        await google.colab.output.renderOutput(dataTable, element);\n",
              "        const docLink = document.createElement('div');\n",
              "        docLink.innerHTML = docLinkHtml;\n",
              "        element.appendChild(docLink);\n",
              "      }\n",
              "    </script>\n",
              "  </div>\n",
              "\n",
              "\n",
              "<div id=\"df-9a676ef3-ce6d-47a7-a041-7041af1f121b\">\n",
              "  <button class=\"colab-df-quickchart\" onclick=\"quickchart('df-9a676ef3-ce6d-47a7-a041-7041af1f121b')\"\n",
              "            title=\"Suggest charts\"\n",
              "            style=\"display:none;\">\n",
              "\n",
              "<svg xmlns=\"http://www.w3.org/2000/svg\" height=\"24px\"viewBox=\"0 0 24 24\"\n",
              "     width=\"24px\">\n",
              "    <g>\n",
              "        <path d=\"M19 3H5c-1.1 0-2 .9-2 2v14c0 1.1.9 2 2 2h14c1.1 0 2-.9 2-2V5c0-1.1-.9-2-2-2zM9 17H7v-7h2v7zm4 0h-2V7h2v10zm4 0h-2v-4h2v4z\"/>\n",
              "    </g>\n",
              "</svg>\n",
              "  </button>\n",
              "\n",
              "<style>\n",
              "  .colab-df-quickchart {\n",
              "      --bg-color: #E8F0FE;\n",
              "      --fill-color: #1967D2;\n",
              "      --hover-bg-color: #E2EBFA;\n",
              "      --hover-fill-color: #174EA6;\n",
              "      --disabled-fill-color: #AAA;\n",
              "      --disabled-bg-color: #DDD;\n",
              "  }\n",
              "\n",
              "  [theme=dark] .colab-df-quickchart {\n",
              "      --bg-color: #3B4455;\n",
              "      --fill-color: #D2E3FC;\n",
              "      --hover-bg-color: #434B5C;\n",
              "      --hover-fill-color: #FFFFFF;\n",
              "      --disabled-bg-color: #3B4455;\n",
              "      --disabled-fill-color: #666;\n",
              "  }\n",
              "\n",
              "  .colab-df-quickchart {\n",
              "    background-color: var(--bg-color);\n",
              "    border: none;\n",
              "    border-radius: 50%;\n",
              "    cursor: pointer;\n",
              "    display: none;\n",
              "    fill: var(--fill-color);\n",
              "    height: 32px;\n",
              "    padding: 0;\n",
              "    width: 32px;\n",
              "  }\n",
              "\n",
              "  .colab-df-quickchart:hover {\n",
              "    background-color: var(--hover-bg-color);\n",
              "    box-shadow: 0 1px 2px rgba(60, 64, 67, 0.3), 0 1px 3px 1px rgba(60, 64, 67, 0.15);\n",
              "    fill: var(--button-hover-fill-color);\n",
              "  }\n",
              "\n",
              "  .colab-df-quickchart-complete:disabled,\n",
              "  .colab-df-quickchart-complete:disabled:hover {\n",
              "    background-color: var(--disabled-bg-color);\n",
              "    fill: var(--disabled-fill-color);\n",
              "    box-shadow: none;\n",
              "  }\n",
              "\n",
              "  .colab-df-spinner {\n",
              "    border: 2px solid var(--fill-color);\n",
              "    border-color: transparent;\n",
              "    border-bottom-color: var(--fill-color);\n",
              "    animation:\n",
              "      spin 1s steps(1) infinite;\n",
              "  }\n",
              "\n",
              "  @keyframes spin {\n",
              "    0% {\n",
              "      border-color: transparent;\n",
              "      border-bottom-color: var(--fill-color);\n",
              "      border-left-color: var(--fill-color);\n",
              "    }\n",
              "    20% {\n",
              "      border-color: transparent;\n",
              "      border-left-color: var(--fill-color);\n",
              "      border-top-color: var(--fill-color);\n",
              "    }\n",
              "    30% {\n",
              "      border-color: transparent;\n",
              "      border-left-color: var(--fill-color);\n",
              "      border-top-color: var(--fill-color);\n",
              "      border-right-color: var(--fill-color);\n",
              "    }\n",
              "    40% {\n",
              "      border-color: transparent;\n",
              "      border-right-color: var(--fill-color);\n",
              "      border-top-color: var(--fill-color);\n",
              "    }\n",
              "    60% {\n",
              "      border-color: transparent;\n",
              "      border-right-color: var(--fill-color);\n",
              "    }\n",
              "    80% {\n",
              "      border-color: transparent;\n",
              "      border-right-color: var(--fill-color);\n",
              "      border-bottom-color: var(--fill-color);\n",
              "    }\n",
              "    90% {\n",
              "      border-color: transparent;\n",
              "      border-bottom-color: var(--fill-color);\n",
              "    }\n",
              "  }\n",
              "</style>\n",
              "\n",
              "  <script>\n",
              "    async function quickchart(key) {\n",
              "      const quickchartButtonEl =\n",
              "        document.querySelector('#' + key + ' button');\n",
              "      quickchartButtonEl.disabled = true;  // To prevent multiple clicks.\n",
              "      quickchartButtonEl.classList.add('colab-df-spinner');\n",
              "      try {\n",
              "        const charts = await google.colab.kernel.invokeFunction(\n",
              "            'suggestCharts', [key], {});\n",
              "      } catch (error) {\n",
              "        console.error('Error during call to suggestCharts:', error);\n",
              "      }\n",
              "      quickchartButtonEl.classList.remove('colab-df-spinner');\n",
              "      quickchartButtonEl.classList.add('colab-df-quickchart-complete');\n",
              "    }\n",
              "    (() => {\n",
              "      let quickchartButtonEl =\n",
              "        document.querySelector('#df-9a676ef3-ce6d-47a7-a041-7041af1f121b button');\n",
              "      quickchartButtonEl.style.display =\n",
              "        google.colab.kernel.accessAllowed ? 'block' : 'none';\n",
              "    })();\n",
              "  </script>\n",
              "</div>\n",
              "\n",
              "  <div id=\"id_e691c698-1166-4401-b016-17def44a371d\">\n",
              "    <style>\n",
              "      .colab-df-generate {\n",
              "        background-color: #E8F0FE;\n",
              "        border: none;\n",
              "        border-radius: 50%;\n",
              "        cursor: pointer;\n",
              "        display: none;\n",
              "        fill: #1967D2;\n",
              "        height: 32px;\n",
              "        padding: 0 0 0 0;\n",
              "        width: 32px;\n",
              "      }\n",
              "\n",
              "      .colab-df-generate:hover {\n",
              "        background-color: #E2EBFA;\n",
              "        box-shadow: 0px 1px 2px rgba(60, 64, 67, 0.3), 0px 1px 3px 1px rgba(60, 64, 67, 0.15);\n",
              "        fill: #174EA6;\n",
              "      }\n",
              "\n",
              "      [theme=dark] .colab-df-generate {\n",
              "        background-color: #3B4455;\n",
              "        fill: #D2E3FC;\n",
              "      }\n",
              "\n",
              "      [theme=dark] .colab-df-generate:hover {\n",
              "        background-color: #434B5C;\n",
              "        box-shadow: 0px 1px 3px 1px rgba(0, 0, 0, 0.15);\n",
              "        filter: drop-shadow(0px 1px 2px rgba(0, 0, 0, 0.3));\n",
              "        fill: #FFFFFF;\n",
              "      }\n",
              "    </style>\n",
              "    <button class=\"colab-df-generate\" onclick=\"generateWithVariable('paid_stat')\"\n",
              "            title=\"Generate code using this dataframe.\"\n",
              "            style=\"display:none;\">\n",
              "\n",
              "  <svg xmlns=\"http://www.w3.org/2000/svg\" height=\"24px\"viewBox=\"0 0 24 24\"\n",
              "       width=\"24px\">\n",
              "    <path d=\"M7,19H8.4L18.45,9,17,7.55,7,17.6ZM5,21V16.75L18.45,3.32a2,2,0,0,1,2.83,0l1.4,1.43a1.91,1.91,0,0,1,.58,1.4,1.91,1.91,0,0,1-.58,1.4L9.25,21ZM18.45,9,17,7.55Zm-12,3A5.31,5.31,0,0,0,4.9,8.1,5.31,5.31,0,0,0,1,6.5,5.31,5.31,0,0,0,4.9,4.9,5.31,5.31,0,0,0,6.5,1,5.31,5.31,0,0,0,8.1,4.9,5.31,5.31,0,0,0,12,6.5,5.46,5.46,0,0,0,6.5,12Z\"/>\n",
              "  </svg>\n",
              "    </button>\n",
              "    <script>\n",
              "      (() => {\n",
              "      const buttonEl =\n",
              "        document.querySelector('#id_e691c698-1166-4401-b016-17def44a371d button.colab-df-generate');\n",
              "      buttonEl.style.display =\n",
              "        google.colab.kernel.accessAllowed ? 'block' : 'none';\n",
              "\n",
              "      buttonEl.onclick = () => {\n",
              "        google.colab.notebook.generateWithVariable('paid_stat');\n",
              "      }\n",
              "      })();\n",
              "    </script>\n",
              "  </div>\n",
              "\n",
              "    </div>\n",
              "  </div>\n"
            ],
            "application/vnd.google.colaboratory.intrinsic+json": {
              "type": "dataframe",
              "variable_name": "paid_stat",
              "summary": "{\n  \"name\": \"paid_stat\",\n  \"rows\": 2,\n  \"fields\": [\n    {\n      \"column\": [\n        \"VARIANT_NAME\",\n        \"\"\n      ],\n      \"properties\": {\n        \"dtype\": \"string\",\n        \"num_unique_values\": 2,\n        \"samples\": [\n          \"variant\",\n          \"control\"\n        ],\n        \"semantic_type\": \"\",\n        \"description\": \"\"\n      }\n    },\n    {\n      \"column\": [\n        \"USER_ID\",\n        \"nunique\"\n      ],\n      \"properties\": {\n        \"dtype\": \"number\",\n        \"std\": 7,\n        \"min\": 42,\n        \"max\": 53,\n        \"num_unique_values\": 2,\n        \"samples\": [\n          42,\n          53\n        ],\n        \"semantic_type\": \"\",\n        \"description\": \"\"\n      }\n    },\n    {\n      \"column\": [\n        \"REVENUE\",\n        \"sum\"\n      ],\n      \"properties\": {\n        \"dtype\": \"number\",\n        \"std\": 67.33777877239493,\n        \"min\": 179.32,\n        \"max\": 274.55,\n        \"num_unique_values\": 2,\n        \"samples\": [\n          179.32,\n          274.55\n        ],\n        \"semantic_type\": \"\",\n        \"description\": \"\"\n      }\n    },\n    {\n      \"column\": [\n        \"REVENUE\",\n        \"mean\"\n      ],\n      \"properties\": {\n        \"dtype\": \"number\",\n        \"std\": 0.6439373047684182,\n        \"min\": 4.269523809523809,\n        \"max\": 5.180188679245283,\n        \"num_unique_values\": 2,\n        \"samples\": [\n          4.269523809523809,\n          5.180188679245283\n        ],\n        \"semantic_type\": \"\",\n        \"description\": \"\"\n      }\n    },\n    {\n      \"column\": [\n        \"REVENUE\",\n        \"median\"\n      ],\n      \"properties\": {\n        \"dtype\": \"number\",\n        \"std\": 0.014142135623730963,\n        \"min\": 2.97,\n        \"max\": 2.99,\n        \"num_unique_values\": 2,\n        \"samples\": [\n          2.97,\n          2.99\n        ],\n        \"semantic_type\": \"\",\n        \"description\": \"\"\n      }\n    },\n    {\n      \"column\": [\n        \"REVENUE\",\n        \"count\"\n      ],\n      \"properties\": {\n        \"dtype\": \"number\",\n        \"std\": 7,\n        \"min\": 42,\n        \"max\": 53,\n        \"num_unique_values\": 2,\n        \"samples\": [\n          42,\n          53\n        ],\n        \"semantic_type\": \"\",\n        \"description\": \"\"\n      }\n    },\n    {\n      \"column\": [\n        \"per_user\",\n        \"orders\"\n      ],\n      \"properties\": {\n        \"dtype\": \"number\",\n        \"std\": 0.0,\n        \"min\": 1.0,\n        \"max\": 1.0,\n        \"num_unique_values\": 1,\n        \"samples\": [\n          1.0\n        ],\n        \"semantic_type\": \"\",\n        \"description\": \"\"\n      }\n    },\n    {\n      \"column\": [\n        \"per_user\",\n        \"revenue\"\n      ],\n      \"properties\": {\n        \"dtype\": \"number\",\n        \"std\": 0.6439373047684182,\n        \"min\": 4.269523809523809,\n        \"max\": 5.180188679245283,\n        \"num_unique_values\": 2,\n        \"samples\": [\n          4.269523809523809\n        ],\n        \"semantic_type\": \"\",\n        \"description\": \"\"\n      }\n    }\n  ]\n}"
            }
          },
          "metadata": {},
          "execution_count": 20
        }
      ]
    },
    {
      "cell_type": "markdown",
      "source": [
        "Let's look at the distributions of all and only paying users"
      ],
      "metadata": {
        "id": "RozYt1eZkkpQ"
      }
    },
    {
      "cell_type": "code",
      "source": [
        "f, axes = plt.subplots(2, figsize=(10,8))\n",
        "# build graphs of distributions of all users\n",
        "sns.distplot(df.loc[df['VARIANT_NAME'] == 'control', 'REVENUE'], ax = axes[0], label='control')\n",
        "sns.distplot(df.loc[df['VARIANT_NAME'] == 'variant', 'REVENUE'], ax = axes[0], label='variant')\n",
        "axes[0].set_title('Distribution of revenue of all users')\n",
        "\n",
        "# build graphs of distributions of paying users\n",
        "sns.distplot(df.loc[(df['VARIANT_NAME'] == 'control') & (df['REVENUE'] > 0), 'REVENUE'], ax = axes[1], label='control' )\n",
        "sns.distplot(df.loc[(df['VARIANT_NAME'] == 'variant') & (df['REVENUE'] > 0), 'REVENUE'], ax = axes[1], label='variant' )\n",
        "axes[1].set_title('Paying user revenue distribution')\n",
        "plt.legend()\n",
        "plt.subplots_adjust(hspace = 0.3)"
      ],
      "metadata": {
        "execution": {
          "iopub.status.busy": "2022-09-16T18:23:23.843826Z",
          "iopub.execute_input": "2022-09-16T18:23:23.844477Z",
          "iopub.status.idle": "2022-09-16T18:23:24.587221Z",
          "shell.execute_reply.started": "2022-09-16T18:23:23.844435Z",
          "shell.execute_reply": "2022-09-16T18:23:24.585887Z"
        },
        "trusted": true,
        "id": "Xmm-HM-ZkkpQ",
        "colab": {
          "base_uri": "https://localhost:8080/",
          "height": 1000
        },
        "outputId": "745dace5-d5ba-42b1-ee36-5777988a1f58"
      },
      "execution_count": 21,
      "outputs": [
        {
          "output_type": "stream",
          "name": "stderr",
          "text": [
            "<ipython-input-21-6823f3e6b917>:3: UserWarning: \n",
            "\n",
            "`distplot` is a deprecated function and will be removed in seaborn v0.14.0.\n",
            "\n",
            "Please adapt your code to use either `displot` (a figure-level function with\n",
            "similar flexibility) or `histplot` (an axes-level function for histograms).\n",
            "\n",
            "For a guide to updating your code to use the new functions, please see\n",
            "https://gist.github.com/mwaskom/de44147ed2974457ad6372750bbe5751\n",
            "\n",
            "  sns.distplot(df.loc[df['VARIANT_NAME'] == 'control', 'REVENUE'], ax = axes[0], label='control')\n",
            "<ipython-input-21-6823f3e6b917>:4: UserWarning: \n",
            "\n",
            "`distplot` is a deprecated function and will be removed in seaborn v0.14.0.\n",
            "\n",
            "Please adapt your code to use either `displot` (a figure-level function with\n",
            "similar flexibility) or `histplot` (an axes-level function for histograms).\n",
            "\n",
            "For a guide to updating your code to use the new functions, please see\n",
            "https://gist.github.com/mwaskom/de44147ed2974457ad6372750bbe5751\n",
            "\n",
            "  sns.distplot(df.loc[df['VARIANT_NAME'] == 'variant', 'REVENUE'], ax = axes[0], label='variant')\n",
            "<ipython-input-21-6823f3e6b917>:8: UserWarning: \n",
            "\n",
            "`distplot` is a deprecated function and will be removed in seaborn v0.14.0.\n",
            "\n",
            "Please adapt your code to use either `displot` (a figure-level function with\n",
            "similar flexibility) or `histplot` (an axes-level function for histograms).\n",
            "\n",
            "For a guide to updating your code to use the new functions, please see\n",
            "https://gist.github.com/mwaskom/de44147ed2974457ad6372750bbe5751\n",
            "\n",
            "  sns.distplot(df.loc[(df['VARIANT_NAME'] == 'control') & (df['REVENUE'] > 0), 'REVENUE'], ax = axes[1], label='control' )\n",
            "<ipython-input-21-6823f3e6b917>:9: UserWarning: \n",
            "\n",
            "`distplot` is a deprecated function and will be removed in seaborn v0.14.0.\n",
            "\n",
            "Please adapt your code to use either `displot` (a figure-level function with\n",
            "similar flexibility) or `histplot` (an axes-level function for histograms).\n",
            "\n",
            "For a guide to updating your code to use the new functions, please see\n",
            "https://gist.github.com/mwaskom/de44147ed2974457ad6372750bbe5751\n",
            "\n",
            "  sns.distplot(df.loc[(df['VARIANT_NAME'] == 'variant') & (df['REVENUE'] > 0), 'REVENUE'], ax = axes[1], label='variant' )\n"
          ]
        },
        {
          "output_type": "display_data",
          "data": {
            "text/plain": [
              "<Figure size 1000x800 with 2 Axes>"
            ],
            "image/png": "[encoded data removed]"
          },
          "metadata": {}
        }
      ]
    },
    {
      "cell_type": "markdown",
      "source": [
        "### Statistical Analysis <a name=\"Statistical\"/>"
      ],
      "metadata": {
        "id": "5vwsQSeVkkpQ"
      }
    },
    {
      "cell_type": "markdown",
      "source": [
        "#### Checking if the distribution is normal"
      ],
      "metadata": {
        "id": "lJP78Hc_kkpQ"
      }
    },
    {
      "cell_type": "markdown",
      "source": [
        "Based on their previous graph, we see that the data is not normally distributed."
      ],
      "metadata": {
        "id": "BVRKdz3WkkpQ"
      }
    },
    {
      "cell_type": "code",
      "source": [
        "# Use the Shapiro-Wilk criterion to confirm it\n",
        "shapiro(df.loc[df.VARIANT_NAME == 'variant', 'REVENUE'])"
      ],
      "metadata": {
        "execution": {
          "iopub.status.busy": "2022-09-16T18:23:24.588685Z",
          "iopub.execute_input": "2022-09-16T18:23:24.589024Z",
          "iopub.status.idle": "2022-09-16T18:23:24.597871Z",
          "shell.execute_reply.started": "2022-09-16T18:23:24.588995Z",
          "shell.execute_reply": "2022-09-16T18:23:24.596794Z"
        },
        "trusted": true,
        "id": "je2NXscMkkpQ",
        "colab": {
          "base_uri": "https://localhost:8080/"
        },
        "outputId": "a2f2bdf0-67a7-43c6-ab14-1667a7d0ccce"
      },
      "execution_count": 30,
      "outputs": [
        {
          "output_type": "execute_result",
          "data": {
            "text/plain": [
              "ShapiroResult(statistic=0.06145986897942335, pvalue=9.962810723092505e-76)"
            ]
          },
          "metadata": {},
          "execution_count": 30
        }
      ]
    },
    {
      "cell_type": "markdown",
      "source": [
        "The null hypothesis about the normal distribution of the data is rejected"
      ],
      "metadata": {
        "id": "Pq-RbAERkkpR"
      }
    },
    {
      "cell_type": "markdown",
      "source": [
        "#### Mann-Whitney test"
      ],
      "metadata": {
        "id": "nYxHXTxpkkpR"
      }
    },
    {
      "cell_type": "markdown",
      "source": [
        "Let's check the value of the statistics of the Mann-Whitney test. Some sources have a limitation of applicability in case of duplicate data. There are a lot of repetitions in our sample, and especially a lot of zero values, so in this case we need to be careful about this criterion."
      ],
      "metadata": {
        "id": "eGKBrlFnkkpR"
      }
    },
    {
      "cell_type": "code",
      "source": [
        "(df['REVENUE'] == 0).value_counts()"
      ],
      "metadata": {
        "execution": {
          "iopub.status.busy": "2022-09-16T18:23:24.599408Z",
          "iopub.execute_input": "2022-09-16T18:23:24.600052Z",
          "iopub.status.idle": "2022-09-16T18:23:24.609697Z",
          "shell.execute_reply.started": "2022-09-16T18:23:24.600019Z",
          "shell.execute_reply": "2022-09-16T18:23:24.608442Z"
        },
        "trusted": true,
        "id": "ftj_LlaZkkpR",
        "colab": {
          "base_uri": "https://localhost:8080/",
          "height": 178
        },
        "outputId": "6fe8c844-328b-414a-e6a6-18ab66952f1c"
      },
      "execution_count": 31,
      "outputs": [
        {
          "output_type": "execute_result",
          "data": {
            "text/plain": [
              "REVENUE\n",
              "True     4687\n",
              "False      95\n",
              "Name: count, dtype: int64"
            ],
            "text/html": [
              "<div>\n",
              "<style scoped>\n",
              "    .dataframe tbody tr th:only-of-type {\n",
              "        vertical-align: middle;\n",
              "    }\n",
              "\n",
              "    .dataframe tbody tr th {\n",
              "        vertical-align: top;\n",
              "    }\n",
              "\n",
              "    .dataframe thead th {\n",
              "        text-align: right;\n",
              "    }\n",
              "</style>\n",
              "<table border=\"1\" class=\"dataframe\">\n",
              "  <thead>\n",
              "    <tr style=\"text-align: right;\">\n",
              "      <th></th>\n",
              "      <th>count</th>\n",
              "    </tr>\n",
              "    <tr>\n",
              "      <th>REVENUE</th>\n",
              "      <th></th>\n",
              "    </tr>\n",
              "  </thead>\n",
              "  <tbody>\n",
              "    <tr>\n",
              "      <th>True</th>\n",
              "      <td>4687</td>\n",
              "    </tr>\n",
              "    <tr>\n",
              "      <th>False</th>\n",
              "      <td>95</td>\n",
              "    </tr>\n",
              "  </tbody>\n",
              "</table>\n",
              "</div><br><label><b>dtype:</b> int64</label>"
            ]
          },
          "metadata": {},
          "execution_count": 31
        }
      ]
    },
    {
      "cell_type": "code",
      "source": [
        "# Check on the data of all users the value of the statistics of the Mann-Whitney test\n",
        "mannwhitneyu(df.loc[df.VARIANT_NAME == 'variant', 'REVENUE'], df.loc[df.VARIANT_NAME == 'control', 'REVENUE'])"
      ],
      "metadata": {
        "execution": {
          "iopub.status.busy": "2022-09-16T18:23:24.611079Z",
          "iopub.execute_input": "2022-09-16T18:23:24.611478Z",
          "iopub.status.idle": "2022-09-16T18:23:24.627499Z",
          "shell.execute_reply.started": "2022-09-16T18:23:24.611448Z",
          "shell.execute_reply": "2022-09-16T18:23:24.626266Z"
        },
        "trusted": true,
        "id": "liLsCl00kkpR",
        "colab": {
          "base_uri": "https://localhost:8080/"
        },
        "outputId": "07942f50-fd8b-4495-fb90-34e2931ce005"
      },
      "execution_count": 32,
      "outputs": [
        {
          "output_type": "execute_result",
          "data": {
            "text/plain": [
              "MannwhitneyuResult(statistic=2845109.0, pvalue=0.24799555106821947)"
            ]
          },
          "metadata": {},
          "execution_count": 32
        }
      ]
    },
    {
      "cell_type": "code",
      "source": [
        "# TODO : Check on the data of only the users that pay, the value of the statistics of the Mann-Whitney test\n",
        "mannwhitneyu(df.loc[(df.VARIANT_NAME == 'variant') & (df.REVENUE > 0), 'REVENUE'],\n",
        "             df.loc[(df.VARIANT_NAME == 'control') & (df.REVENUE > 0), 'REVENUE'])"
      ],
      "metadata": {
        "execution": {
          "iopub.status.busy": "2022-09-16T18:23:24.632144Z",
          "iopub.execute_input": "2022-09-16T18:23:24.632496Z",
          "iopub.status.idle": "2022-09-16T18:23:24.644752Z",
          "shell.execute_reply.started": "2022-09-16T18:23:24.632466Z",
          "shell.execute_reply": "2022-09-16T18:23:24.643569Z"
        },
        "trusted": true,
        "id": "tCCcVEM4kkpS",
        "colab": {
          "base_uri": "https://localhost:8080/"
        },
        "outputId": "77e9c084-d7f9-4db2-e338-4b0c6639139f"
      },
      "execution_count": 33,
      "outputs": [
        {
          "output_type": "execute_result",
          "data": {
            "text/plain": [
              "MannwhitneyuResult(statistic=1029.0, pvalue=0.5314192217084708)"
            ]
          },
          "metadata": {},
          "execution_count": 33
        }
      ]
    },
    {
      "cell_type": "markdown",
      "source": [
        "#### Bootstrap"
      ],
      "metadata": {
        "execution": {
          "iopub.status.busy": "2022-09-16T17:49:10.3638Z",
          "iopub.execute_input": "2022-09-16T17:49:10.365079Z",
          "iopub.status.idle": "2022-09-16T17:49:10.369587Z",
          "shell.execute_reply.started": "2022-09-16T17:49:10.365037Z",
          "shell.execute_reply": "2022-09-16T17:49:10.368719Z"
        },
        "id": "XBp259a8kkpS"
      }
    },
    {
      "cell_type": "markdown",
      "source": [
        "In order to get more complete information about the differences between the average values of the ab test groups, we will use bootstap.\n",
        "\n",
        "Let's create a function to get back samples and get a confidence interval, and then look at the sample statistics"
      ],
      "metadata": {
        "id": "0xpO-CmekkpS"
      }
    },
    {
      "cell_type": "code",
      "source": [
        "def get_bootstrap_samples(data, n_samples=1000):\n",
        "    indices = np.random.randint(0, len(data), (n_samples, len(data)))\n",
        "    samples = data[indices]\n",
        "    return samples\n",
        "\n",
        "def stat_intervals(stat, alpha=0.05):\n",
        "    boundaries = np.percentile(stat, [100 * alpha / 2., 100 * (1 - alpha / 2.)])\n",
        "    return boundaries"
      ],
      "metadata": {
        "execution": {
          "iopub.status.busy": "2022-09-16T18:23:24.645844Z",
          "iopub.execute_input": "2022-09-16T18:23:24.646134Z",
          "iopub.status.idle": "2022-09-16T18:23:24.653955Z",
          "shell.execute_reply.started": "2022-09-16T18:23:24.646108Z",
          "shell.execute_reply": "2022-09-16T18:23:24.652612Z"
        },
        "trusted": true,
        "id": "3yLh1toVkkpS"
      },
      "execution_count": 34,
      "outputs": []
    },
    {
      "cell_type": "code",
      "source": [
        "# Generate samples for all users\n",
        "control = get_bootstrap_samples(df.loc[df.VARIANT_NAME == 'control', 'REVENUE'].values, 10000)\n",
        "variant = get_bootstrap_samples(df.loc[df.VARIANT_NAME == 'variant', 'REVENUE'].values, 10000)"
      ],
      "metadata": {
        "execution": {
          "iopub.status.busy": "2022-09-16T18:23:24.656318Z",
          "iopub.execute_input": "2022-09-16T18:23:24.656775Z",
          "iopub.status.idle": "2022-09-16T18:23:25.935543Z",
          "shell.execute_reply.started": "2022-09-16T18:23:24.656733Z",
          "shell.execute_reply": "2022-09-16T18:23:25.934505Z"
        },
        "trusted": true,
        "id": "vAgJqb7lkkpS"
      },
      "execution_count": 35,
      "outputs": []
    },
    {
      "cell_type": "code",
      "source": [
        "# TODO : Generate samples for only paying users\n",
        "control_paid = get_bootstrap_samples(df.loc[(df.VARIANT_NAME == 'control') & (df.REVENUE > 0), 'REVENUE'].values, 10000)\n",
        "variant_paid = get_bootstrap_samples(df.loc[(df.VARIANT_NAME == 'variant') & (df.REVENUE > 0), 'REVENUE'].values, 10000)"
      ],
      "metadata": {
        "execution": {
          "iopub.status.busy": "2022-09-16T18:23:25.936759Z",
          "iopub.execute_input": "2022-09-16T18:23:25.937087Z",
          "iopub.status.idle": "2022-09-16T18:23:25.964331Z",
          "shell.execute_reply.started": "2022-09-16T18:23:25.937057Z",
          "shell.execute_reply": "2022-09-16T18:23:25.96321Z"
        },
        "trusted": true,
        "id": "pwXNe9H4kkpS"
      },
      "execution_count": 36,
      "outputs": []
    },
    {
      "cell_type": "markdown",
      "source": [
        "Let's look at the distribution of means in the ab test groups"
      ],
      "metadata": {
        "id": "7OsUPGxnkkpT"
      }
    },
    {
      "cell_type": "code",
      "source": [
        "f, ax = plt.subplots()\n",
        "# plt.figure(figsize=(20,5))\n",
        "sns.kdeplot(np.mean(control, axis=1), shade=True, label='control')\n",
        "sns.kdeplot(np.mean(variant, axis=1), shade=True, label='variant')\n",
        "plt.title('Sample mean distribution for all users')"
      ],
      "metadata": {
        "execution": {
          "iopub.status.busy": "2022-09-16T18:23:25.965453Z",
          "iopub.execute_input": "2022-09-16T18:23:25.96576Z",
          "iopub.status.idle": "2022-09-16T18:23:26.299852Z",
          "shell.execute_reply.started": "2022-09-16T18:23:25.965732Z",
          "shell.execute_reply": "2022-09-16T18:23:26.298725Z"
        },
        "trusted": true,
        "id": "CvNnX2ALkkpT",
        "colab": {
          "base_uri": "https://localhost:8080/",
          "height": 469
        },
        "outputId": "bc898816-80e2-41d2-f951-1a03919913be"
      },
      "execution_count": 37,
      "outputs": [
        {
          "output_type": "execute_result",
          "data": {
            "text/plain": [
              "Text(0.5, 1.0, 'Sample mean distribution for all users')"
            ]
          },
          "metadata": {},
          "execution_count": 37
        },
        {
          "output_type": "display_data",
          "data": {
            "text/plain": [
              "<Figure size 640x480 with 1 Axes>"
            ],
            "image/png": "[encoded data removed]"
          },
          "metadata": {}
        }
      ]
    },
    {
      "cell_type": "code",
      "source": [
        "f, ax = plt.subplots()\n",
        "# plt.figure(figsize=(20,5))\n",
        "sns.kdeplot(np.mean(control_paid, axis=1), shade=True, label='control')\n",
        "sns.kdeplot(np.mean(variant_paid, axis=1), shade=True, label='variant')\n",
        "plt.title('Sample mean distribution for paying users')"
      ],
      "metadata": {
        "execution": {
          "iopub.status.busy": "2022-09-16T18:23:26.301272Z",
          "iopub.execute_input": "2022-09-16T18:23:26.301641Z",
          "iopub.status.idle": "2022-09-16T18:23:26.62483Z",
          "shell.execute_reply.started": "2022-09-16T18:23:26.301609Z",
          "shell.execute_reply": "2022-09-16T18:23:26.623431Z"
        },
        "trusted": true,
        "id": "v4_qUms4kkpT",
        "colab": {
          "base_uri": "https://localhost:8080/",
          "height": 469
        },
        "outputId": "ca64486d-3a41-4b29-88d9-e5da4b3e1ca2"
      },
      "execution_count": 38,
      "outputs": [
        {
          "output_type": "execute_result",
          "data": {
            "text/plain": [
              "Text(0.5, 1.0, 'Sample mean distribution for paying users')"
            ]
          },
          "metadata": {},
          "execution_count": 38
        },
        {
          "output_type": "display_data",
          "data": {
            "text/plain": [
              "<Figure size 640x480 with 1 Axes>"
            ],
            "image/png": "[encoded data removed]"
          },
          "metadata": {}
        }
      ]
    },
    {
      "cell_type": "markdown",
      "source": [
        "We see that there are differences, but the confidence intervals may overlap, so you need to look at the distribution of the difference in the means between the groups in order to draw final conclusions.\n",
        "\n",
        "Let's evaluate the difference between the groups: look at the distribution of the mean difference and build confidence intervals for it. To do this, we will create a function for visualization"
      ],
      "metadata": {
        "id": "8MXUz0CEkkpT"
      }
    },
    {
      "cell_type": "code",
      "source": [
        "def plot_distribution_and_stat_intervals(variant, control, title, alpha=0.05):\n",
        "    \"\"\" Plot the distribution of the mean difference and return the confidence intervals \"\"\"\n",
        "    f, ax = plt.subplots()\n",
        "    # get data for coloring confidence intervals\n",
        "    points = sns.kdeplot(variant - control, shade=False).get_lines()[0].get_data()\n",
        "    x = points[0]\n",
        "    y = points[1]\n",
        "    ymin, ymax = plt.ylim()\n",
        "    # highlight the zero value and the bounds of the confidence interval\n",
        "    plt.vlines(0, 0, ymax, label='0', color='gray')\n",
        "    plt.vlines(stat_intervals(variant - control, alpha)[0], 0, ymax, linestyles=\"dashed\")\n",
        "    plt.vlines(stat_intervals(variant - control, alpha)[1], 0, ymax, linestyles=\"dashed\")\n",
        "    # color the confidence interval and zones outside it\n",
        "    plt.fill_between(x,y,\n",
        "                     where = (x >= stat_intervals(variant - control, alpha)[1]),\n",
        "                     color='gainsboro')\n",
        "    plt.fill_between(x,y,\n",
        "                     where = (x <= stat_intervals(variant - control, alpha)[0]),\n",
        "                     color='gainsboro')\n",
        "    plt.fill_between(x,y,\n",
        "                     where = ((x >= stat_intervals(variant - control, alpha)[0])\n",
        "                              & (x <= stat_intervals(variant - control, alpha)[1])),\n",
        "                     color='red',\n",
        "                     label = '95% confidence interval')\n",
        "    plt.title(f'Distribution of difference between means (variant - control) {title}; {100*(1-alpha)}% Confidence interval for difference of means: {stat_intervals(variant - control, alpha)}')\n",
        "    plt.legend(prop={'size':13})\n",
        "    # return confidence interval data\n",
        "    return stat_intervals(variant - control)"
      ],
      "metadata": {
        "execution": {
          "iopub.status.busy": "2022-09-16T18:23:26.62643Z",
          "iopub.execute_input": "2022-09-16T18:23:26.628052Z",
          "iopub.status.idle": "2022-09-16T18:23:26.639469Z",
          "shell.execute_reply.started": "2022-09-16T18:23:26.628017Z",
          "shell.execute_reply": "2022-09-16T18:23:26.638694Z"
        },
        "trusted": true,
        "id": "bBIz3jkCkkpT"
      },
      "execution_count": 41,
      "outputs": []
    },
    {
      "cell_type": "markdown",
      "source": [
        "Let's build a graph of the distribution of the difference in the means and get a confidence interval\n",
        "\n",
        "For all users"
      ],
      "metadata": {
        "id": "ZIUmqXtHkkpT"
      }
    },
    {
      "cell_type": "code",
      "source": [
        "plot_distribution_and_stat_intervals(\n",
        "    np.mean(variant, axis=1),\n",
        "    np.mean(control, axis=1),\n",
        "    title='all users'\n",
        ")"
      ],
      "metadata": {
        "execution": {
          "iopub.status.busy": "2022-09-16T18:23:26.640692Z",
          "iopub.execute_input": "2022-09-16T18:23:26.641004Z",
          "iopub.status.idle": "2022-09-16T18:23:26.655336Z",
          "shell.execute_reply.started": "2022-09-16T18:23:26.640977Z",
          "shell.execute_reply": "2022-09-16T18:23:26.654163Z"
        },
        "trusted": true,
        "id": "eQq8UewNkkpT",
        "colab": {
          "base_uri": "https://localhost:8080/",
          "height": 265
        },
        "outputId": "d4979866-068b-4830-dc2b-8b8c92a4312c"
      },
      "execution_count": 42,
      "outputs": [
        {
          "output_type": "execute_result",
          "data": {
            "text/plain": [
              "array([-0.09861264,  0.01768785])"
            ]
          },
          "metadata": {},
          "execution_count": 42
        },
        {
          "output_type": "display_data",
          "data": {
            "text/plain": [
              "<Figure size 640x480 with 1 Axes>"
            ],
            "image/png": "[encoded data removed]"
          },
          "metadata": {}
        }
      ]
    },
    {
      "cell_type": "code",
      "source": [
        "plot_distribution_and_stat_intervals(np.mean(variant_paid, axis=1),\n",
        "                                     np.mean(control_paid, axis=1),\n",
        "                                     title='paying users')"
      ],
      "metadata": {
        "execution": {
          "iopub.status.busy": "2022-09-16T18:23:26.656914Z",
          "iopub.execute_input": "2022-09-16T18:23:26.657231Z",
          "iopub.status.idle": "2022-09-16T18:23:26.666176Z",
          "shell.execute_reply.started": "2022-09-16T18:23:26.65719Z",
          "shell.execute_reply": "2022-09-16T18:23:26.664922Z"
        },
        "trusted": true,
        "id": "mOb8VkPAkkpT",
        "colab": {
          "base_uri": "https://localhost:8080/",
          "height": 259
        },
        "outputId": "b26cf573-0544-4ae5-ec44-e2c98a816edc"
      },
      "execution_count": 43,
      "outputs": [
        {
          "output_type": "execute_result",
          "data": {
            "text/plain": [
              "array([-3.02551359,  1.26375831])"
            ]
          },
          "metadata": {},
          "execution_count": 43
        },
        {
          "output_type": "display_data",
          "data": {
            "text/plain": [
              "<Figure size 640x480 with 1 Axes>"
            ],
            "image/png": "[encoded data removed]"
          },
          "metadata": {}
        }
      ]
    },
    {
      "cell_type": "markdown",
      "source": [
        "We see that the zero value is within the confidence interval, so we cannot say about the stat. significant change in average revenue between ab test groups.\n",
        "\n",
        "### Conclusions\n",
        "\n",
        "In order to draw conclusions about the differences between A/B test groups, the following steps were taken:\n",
        "\n",
        "- **Exclusion of users assigned to both A/B test groups**: To isolate the impact of the test conditions, users who were present in both groups were removed from the analysis.\n",
        "- **Outlier removal**: The user with `USER_ID=3342` was excluded, as this individual was a strong outlier in the sample and could skew results, particularly given the limited data.\n",
        "- **Aggregating user-level data**: Each user was treated as the experimental unit, and their revenue was summed to create a single record per user.\n",
        "\n",
        "Despite a noticeable reduction in revenue in the variant group, **no statistically significant differences** were found between the A/B test groups, whether examining all users or only paying customers. Further analysis, including data from an A/A test and an investigation into the power of the statistical tests, would be useful for deeper insights.\n"
      ],
      "metadata": {
        "id": "5KFSGNjOkkpU"
      }
    }
  ]
}